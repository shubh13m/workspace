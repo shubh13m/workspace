{
 "metadata": {
  "language_info": {
   "codemirror_mode": {
    "name": "ipython",
    "version": 3
   },
   "file_extension": ".py",
   "mimetype": "text/x-python",
   "name": "python",
   "nbconvert_exporter": "python",
   "pygments_lexer": "ipython3",
   "version": "3.8.3-final"
  },
  "orig_nbformat": 2,
  "kernelspec": {
   "name": "python38332bitf202f996c2eb40d1a8a592c16d847722",
   "display_name": "Python 3.8.3 32-bit",
   "language": "python"
  }
 },
 "nbformat": 4,
 "nbformat_minor": 2,
 "cells": [
  {
   "cell_type": "code",
   "execution_count": 143,
   "metadata": {},
   "outputs": [],
   "source": [
    "# THIS IS PYTHON LEARNING FILE"
   ]
  },
  {
   "cell_type": "code",
   "execution_count": 144,
   "metadata": {},
   "outputs": [
    {
     "output_type": "stream",
     "name": "stdout",
     "text": [
      "shubham13\n"
     ]
    }
   ],
   "source": [
    "# INPUT AND OUTPUT\n",
    "# using input() in python and it takes evrything as string and wants user to typercast accordingly\n",
    "name = input(\"Enter first name\")\n",
    "date = input(\"Enter birth date\")\n",
    "print(name+date)"
   ]
  },
  {
   "cell_type": "code",
   "execution_count": 145,
   "metadata": {},
   "outputs": [
    {
     "output_type": "stream",
     "name": "stdout",
     "text": [
      "3.14\n3.14\n3\n"
     ]
    }
   ],
   "source": [
    "# TYPECASTING INT(), FLOAT(), STR()\n",
    "num = input(\"Enter a float number\")\n",
    "print(float(num))\n",
    "print(str(num))\n",
    "\n",
    "#float as string cannot be converted into integer directly.\n",
    "print(int(float(num)))\n"
   ]
  },
  {
   "cell_type": "code",
   "execution_count": 1,
   "metadata": {},
   "outputs": [
    {
     "output_type": "stream",
     "name": "stdout",
     "text": [
      "X is 1, Y is 2, Z is 3.\n",
      "[5, 6, 7, 8, 9]\n"
     ]
    }
   ],
   "source": [
    "# TAKING MULTIPLE INPUT AT A TIME\n",
    "x,y,z = [int(x) for x in input(\"enter three values\").split()]\n",
    "print(\"X is {}, Y is {}, Z is {}.\".format(x,y,z))\n",
    "w = [int(x) for x in input(\"Enter list values\").split()]\n",
    "print(w)\n"
   ]
  },
  {
   "cell_type": "code",
   "execution_count": 147,
   "metadata": {},
   "outputs": [
    {
     "output_type": "stream",
     "name": "stdout",
     "text": [
      "shubham\na is 13 b is  14\nshubham@13\nshubham-13-03-1996\n"
     ]
    }
   ],
   "source": [
    "# PRINT FUNCTION\n",
    "print(\"shubham\")\n",
    "a = 13\n",
    "b = 14\n",
    "print(\"a is\",a,\"b is \",b)\n",
    "print(\"shubham\", end=\"@\")\n",
    "print(13)\n",
    "print(\"shubham\",\"13\",\"03\",\"1996\", sep=\"-\")"
   ]
  },
  {
   "cell_type": "code",
   "execution_count": 148,
   "metadata": {},
   "outputs": [
    {
     "output_type": "stream",
     "name": "stdout",
     "text": [
      "My name is \"Shubham Pandey\"\nMy folder name is C:\\Shubham\\Pandey\nubhdeyshu\n"
     ]
    }
   ],
   "source": [
    "# STRING IN PYTHON ARE IMMUTABLE\n",
    "string = \"My name is \\\"Shubham Pandey\\\"\"\n",
    "print(string)\n",
    "string = r\"My folder name is C:\\Shubham\\Pandey\"\n",
    "print(string)\n",
    "del string\n",
    "string =  \"shubhamPandey\"\n",
    "print(string[2:5]+string[10:]+string[:-10])"
   ]
  },
  {
   "cell_type": "code",
   "execution_count": 149,
   "metadata": {},
   "outputs": [
    {
     "output_type": "stream",
     "name": "stdout",
     "text": [
      "[]\nshubham 1996\n3\n['shubham', [13, 3, 1996], 99, 98, 10]\n['shubham', [13, 3, 1996]]\n[2, 3, 4, 5, 6]\n[6]\n[1, 2, 3, 4, 5]\n[6, 5, 4, 3, 2, 1]\n"
     ]
    }
   ],
   "source": [
    "#LISTS ARE MUTABLE\n",
    "list = []\n",
    "print(list)\n",
    "list = [\"shubham\",[13,3,1996]]\n",
    "print(list[0],list[1][2])\n",
    "print(len(list[1]))\n",
    "\n",
    "# adding element in list\n",
    "list.append(10)\n",
    "list.insert(2,99)\n",
    "list.insert(3,98)\n",
    "print(list)\n",
    "\n",
    "list.remove(99) #use item value not index\n",
    "list.pop()\n",
    "list.pop(2)\n",
    "print(list)\n",
    "\n",
    "del(list)\n",
    "list = [1,2,3,4,5,6]\n",
    "print(list[1:])\n",
    "print(list[-1:])\n",
    "print(list[:-1])\n",
    "print(list[::-1])"
   ]
  },
  {
   "cell_type": "code",
   "execution_count": 150,
   "metadata": {},
   "outputs": [
    {
     "output_type": "stream",
     "name": "stdout",
     "text": [
      "(1, 'shubham', 2, 'pandey')\nshubham\n((1, 'shubham', 2, 'pandey'), (3, 'nit', 4, 'dgp'))\n4\n(1, 'shubham', 2, 'pandey', 3, 'nit', 4, 'dgp')\n('s', 'h', 'u', 'b', 'h', 'a', 'm')\n('u', 'b', 'h', 'a', 'm')\n('s', 'h', 'u', 'b', 'h', 'a', 'm')\n('s', 'h', 'u', 'b', 'h')\n('s', 'h', 'u', 'b', 'h', 'a')\n('m', 'a', 'h', 'b', 'u', 'h', 's')\n"
     ]
    }
   ],
   "source": [
    "#TUPLES ARE IMMUTABLE\n",
    "tup = (1,\"shubham\",2,\"pandey\")\n",
    "print(tup)\n",
    "print(tup[1])\n",
    "\n",
    "# tupe[1] = \"name\"  // immutable \n",
    "\n",
    "#accessing\n",
    "tup2 = (3,\"nit\",4,\"dgp\")\n",
    "tup3 = (tup,tup2)\n",
    "print(tup3)\n",
    "print(tup3[1][2])\n",
    "print(tup + tup2)\n",
    "del (tup2)\n",
    "\n",
    "tup3 = tuple(\"shubham\")\n",
    "print(tup3)\n",
    "\n",
    "#slicing\n",
    "print(tup3[2:])\n",
    "print(tup3[:])\n",
    "print(tup3[:5])\n",
    "print(tup3[:-1])\n",
    "print(tup3[::-1])\n"
   ]
  },
  {
   "cell_type": "code",
   "execution_count": 151,
   "metadata": {},
   "outputs": [
    {
     "output_type": "stream",
     "name": "stdout",
     "text": [
      "set()\n{1, 2, 'shubham', 'pandey'}\n{1, 2, 'm', 'b', 's', 'u', 'h', ('pandey', 3), 'a'}\n{1, 2, 'm', 4, 5, 6, 'b', 's', 'u', 'h', ('pandey', 3), 'a'}\nFalse\n{1, 2, 'm', 4, 6, 'b', 's', 'u', 'h', ('pandey', 3), 'a'}\n{1, 2, 'm', 4, 'b', 's', 'u', 'h', ('pandey', 3), 'a'}\nset()\n"
     ]
    }
   ],
   "source": [
    "#SETS ARE MUTABLE AND UNIQUE ELEMENTS\n",
    "\n",
    "#initiating an empty set\n",
    "set1 = set()\n",
    "print(set1)\n",
    "set1 = set([1,\"shubham\",2,1,1,\"pandey\",\"shubham\"])\n",
    "print(set1)\n",
    "\n",
    "#adding elements to set\n",
    "set2 = set(\"shubham\")\n",
    "set2.add(1)\n",
    "set2.add(2)\n",
    "\n",
    "#add tuples not list\n",
    "set2.add((\"pandey\",3))\n",
    "print(set2)\n",
    "set2.update([4,5,6])\n",
    "print(set2)\n",
    "\n",
    "# access set element\n",
    "print(3 in set2)\n",
    "\n",
    "#remove element\n",
    "set2.remove(5)\n",
    "print(set2)\n",
    "set2.discard(6)\n",
    "print(set2)\n",
    "set2.clear()\n",
    "print(set2)"
   ]
  },
  {
   "cell_type": "code",
   "execution_count": 152,
   "metadata": {},
   "outputs": [
    {
     "output_type": "stream",
     "name": "stdout",
     "text": [
      "3\n{1: 'shubham', 'pandey': 'shubh', 'multi': {2: 3, 's': 'p'}}\n{1: 'shubham', 'pandey': 'shubh', 'multi': {2: 3}}\n{}\n"
     ]
    }
   ],
   "source": [
    "#DICTIONARY, KEY VALUE PAIR (KEYS : UNIQUE AND IMMUTABLE)\n",
    "dict1 = {1:\"shubham\", \"pandey\":[20,10], \"multi\" : {2:3,'s':'p'}}\n",
    "\n",
    "#accessing element\n",
    "print(dict1['multi'][2])\n",
    "\n",
    "#modifying\n",
    "dict1[\"pandey\"] = \"shubh\"\n",
    "print(dict1)\n",
    "\n",
    "#removing and deletion\n",
    "del dict1['multi']['s']\n",
    "print(dict1)\n",
    "dict1.clear()\n",
    "print(dict1)"
   ]
  },
  {
   "cell_type": "code",
   "execution_count": 8,
   "metadata": {},
   "outputs": [
    {
     "output_type": "stream",
     "name": "stdout",
     "text": [
      "1 2 3 4\n"
     ]
    }
   ],
   "source": [
    "# PACKING, UNPACKING\n",
    "def fun(a,b,c,d):\n",
    "    print(a,b,c,d)\n",
    "\n",
    "list1 = [1,2,3,4]\n",
    "fun(*list1)"
   ]
  },
  {
   "cell_type": "code",
   "execution_count": 14,
   "metadata": {},
   "outputs": [
    {
     "output_type": "stream",
     "name": "stdout",
     "text": [
      "before 10 and 20\nafter 20 and 10\n"
     ]
    }
   ],
   "source": [
    "#SWAP NUMBERS\n",
    "x,y=10,20\n",
    "print(\"before {} and {}\".format(x,y))\n",
    "x,y=y,x\n",
    "print(\"after {} and {}\".format(x,y))"
   ]
  },
  {
   "cell_type": "code",
   "execution_count": 7,
   "metadata": {},
   "outputs": [
    {
     "output_type": "stream",
     "name": "stdout",
     "text": [
      "common 12\nyes\nno\n"
     ]
    }
   ],
   "source": [
    "#OPERATOR IN, NOT IN, ANY, ALL\n",
    "list1=[3,6,9,12,15,18]\n",
    "list2=[4,8,12,16,20]\n",
    "for x in list1:\n",
    "    for y in list2:\n",
    "        if x==y:\n",
    "            print(\"common\",x)\n",
    "\n",
    "if(any([(3>4),(9>12),(12>8)])):\n",
    "    print(\"yes\")\n",
    "else: print(\"no\")\n",
    "\n",
    "if(all([3>4,9>12,12>8])):\n",
    "    print(\"yes\")\n",
    "else: print(\"no\")"
   ]
  },
  {
   "cell_type": "code",
   "execution_count": null,
   "metadata": {},
   "outputs": [],
   "source": [
    "#LOOPS\n",
    "i = 0\n",
    "for i in range(0,10):\n",
    "    print(i)\n",
    "\n",
    "a, b, c, d, e, f = 0, 5, 12, 0, 15, 15\n",
    "exp1 = a <= b < c > d is not e is f \n",
    "exp2 = a is d > f is not c"
   ]
  },
  {
   "cell_type": "code",
   "execution_count": 6,
   "metadata": {},
   "outputs": [
    {
     "output_type": "stream",
     "name": "stdout",
     "text": [
      "this function checks if number is even or odd\neven\nodd\n5 and 10\n1 and 20\n5 and 10\n"
     ]
    }
   ],
   "source": [
    "#FUNCTIONS\n",
    "def evenOdd(x):\n",
    "    \"this function checks if number is even or odd\"\n",
    "    if (x%2==0):\n",
    "        print(\"even\")\n",
    "    else:\n",
    "        print(\"odd\")\n",
    "print(evenOdd.__doc__)\n",
    "evenOdd(2)\n",
    "evenOdd(3)\n",
    "\n",
    "def twoNum(x,y=20):\n",
    "    print(\"%s and %s\" %(x,y))\n",
    "\n",
    "twoNum(5,10)\n",
    "twoNum(1)\n",
    "twoNum(y=10,x=5)"
   ]
  },
  {
   "cell_type": "code",
   "execution_count": null,
   "metadata": {},
   "outputs": [],
   "source": []
  }
 ]
}