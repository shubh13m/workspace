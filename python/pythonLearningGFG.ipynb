{
 "cells": [
  {
   "cell_type": "code",
   "execution_count": null,
   "metadata": {},
   "outputs": [
    {
     "data": {
      "text/plain": [
       "' pending list to study\\n    iterator\\n    generator \\n'"
      ]
     },
     "execution_count": 2,
     "metadata": {},
     "output_type": "execute_result"
    }
   ],
   "source": [
    "# THIS IS PYTHON LEARNING FILE\n",
    "\"\"\" pending list to study\n",
    "    iterator\n",
    "    generator \n",
    "\"\"\""
   ]
  },
  {
   "cell_type": "code",
   "execution_count": 1,
   "metadata": {},
   "outputs": [
    {
     "name": "stdout",
     "output_type": "stream",
     "text": [
      "shubham13\n"
     ]
    }
   ],
   "source": [
    "# INPUT AND OUTPUT\n",
    "# using input() in python and it takes evrything as string and wants user to typercast accordingly\n",
    "name = input(\"Enter first name\")\n",
    "date = input(\"Enter birth date\")\n",
    "print(name+date)"
   ]
  },
  {
   "cell_type": "code",
   "execution_count": null,
   "metadata": {},
   "outputs": [
    {
     "name": "stdout",
     "output_type": "stream",
     "text": [
      "3.14\n",
      "3.14\n",
      "3\n"
     ]
    }
   ],
   "source": [
    "# TYPECASTING INT(), FLOAT(), STR()\n",
    "num = input(\"Enter a float number\")\n",
    "print(float(num))\n",
    "print(str(num))\n",
    "\n",
    "#float as string cannot be converted into integer directly.\n",
    "print(int(float(num)))\n"
   ]
  },
  {
   "cell_type": "code",
   "execution_count": null,
   "metadata": {},
   "outputs": [
    {
     "name": "stdout",
     "output_type": "stream",
     "text": [
      "X is 1, Y is 2, Z is 3.\n",
      "[5, 6, 7, 8, 9]\n"
     ]
    }
   ],
   "source": [
    "# TAKING MULTIPLE INPUT AT A TIME\n",
    "x,y,z = [int(x) for x in input(\"enter three values\").split()]\n",
    "print(\"X is {}, Y is {}, Z is {}.\".format(x,y,z))\n",
    "w = [int(x) for x in input(\"Enter list values\").split()]\n",
    "print(w)\n"
   ]
  },
  {
   "cell_type": "code",
   "execution_count": null,
   "metadata": {},
   "outputs": [
    {
     "name": "stdout",
     "output_type": "stream",
     "text": [
      "shubham\n",
      "a is 13 b is  14\n",
      "shubham@13\n",
      "shubham-13-03-1996\n"
     ]
    }
   ],
   "source": [
    "# PRINT FUNCTION\n",
    "print(\"shubham\")\n",
    "a = 13\n",
    "b = 14\n",
    "print(\"a is\",a,\"b is \",b)\n",
    "print(\"shubham\", end=\"@\")\n",
    "print(13)\n",
    "print(\"shubham\",\"13\",\"03\",\"1996\", sep=\"-\")"
   ]
  },
  {
   "cell_type": "code",
   "execution_count": null,
   "metadata": {},
   "outputs": [
    {
     "name": "stdout",
     "output_type": "stream",
     "text": [
      "My name is \"Shubham Pandey\"\n",
      "My folder name is C:\\Shubham\\Pandey\n",
      "ubhdeyshu\n"
     ]
    }
   ],
   "source": [
    "# STRING IN PYTHON ARE IMMUTABLE\n",
    "string = \"My name is \\\"Shubham Pandey\\\"\"\n",
    "print(string)\n",
    "string = r\"My folder name is C:\\Shubham\\Pandey\"\n",
    "print(string)\n",
    "del string\n",
    "string =  \"shubhamPandey\"\n",
    "print(string[2:5]+string[10:]+string[:-10])"
   ]
  },
  {
   "cell_type": "code",
   "execution_count": null,
   "metadata": {},
   "outputs": [
    {
     "name": "stdout",
     "output_type": "stream",
     "text": [
      "[]\n",
      "shubham 1996\n",
      "3\n",
      "['shubham', [13, 3, 1996], 99, 98, 10]\n",
      "['shubham', [13, 3, 1996]]\n",
      "[2, 3, 4, 5, 6]\n",
      "[6]\n",
      "[1, 2, 3, 4, 5]\n",
      "[6, 5, 4, 3, 2, 1]\n"
     ]
    }
   ],
   "source": [
    "#LISTS ARE MUTABLE\n",
    "list = []\n",
    "print(list)\n",
    "list = [\"shubham\",[13,3,1996]]\n",
    "print(list[0],list[1][2])\n",
    "print(len(list[1]))\n",
    "\n",
    "# adding element in list\n",
    "list.append(10)\n",
    "list.insert(2,99)\n",
    "list.insert(3,98)\n",
    "print(list)\n",
    "\n",
    "list.remove(99) #use item value not index\n",
    "list.pop()\n",
    "list.pop(2)\n",
    "print(list)\n",
    "\n",
    "del(list)\n",
    "list = [1,2,3,4,5,6]\n",
    "print(list[1:])\n",
    "print(list[-1:])\n",
    "print(list[:-1])\n",
    "print(list[::-1])"
   ]
  },
  {
   "cell_type": "code",
   "execution_count": null,
   "metadata": {},
   "outputs": [
    {
     "name": "stdout",
     "output_type": "stream",
     "text": [
      "(1, 'shubham', 2, 'pandey')\n",
      "shubham\n",
      "((1, 'shubham', 2, 'pandey'), (3, 'nit', 4, 'dgp'))\n",
      "4\n",
      "(1, 'shubham', 2, 'pandey', 3, 'nit', 4, 'dgp')\n",
      "('s', 'h', 'u', 'b', 'h', 'a', 'm')\n",
      "('u', 'b', 'h', 'a', 'm')\n",
      "('s', 'h', 'u', 'b', 'h', 'a', 'm')\n",
      "('s', 'h', 'u', 'b', 'h')\n",
      "('s', 'h', 'u', 'b', 'h', 'a')\n",
      "('m', 'a', 'h', 'b', 'u', 'h', 's')\n"
     ]
    }
   ],
   "source": [
    "#TUPLES ARE IMMUTABLE\n",
    "tup = (1,\"shubham\",2,\"pandey\")\n",
    "print(tup)\n",
    "print(tup[1])\n",
    "\n",
    "# tupe[1] = \"name\"  // immutable \n",
    "\n",
    "#accessing\n",
    "tup2 = (3,\"nit\",4,\"dgp\")\n",
    "tup3 = (tup,tup2)\n",
    "print(tup3)\n",
    "print(tup3[1][2])\n",
    "print(tup + tup2)\n",
    "del (tup2)\n",
    "\n",
    "tup3 = tuple(\"shubham\")\n",
    "print(tup3)\n",
    "\n",
    "#slicing\n",
    "print(tup3[2:])\n",
    "print(tup3[:])\n",
    "print(tup3[:5])\n",
    "print(tup3[:-1])\n",
    "print(tup3[::-1])\n"
   ]
  },
  {
   "cell_type": "code",
   "execution_count": null,
   "metadata": {},
   "outputs": [
    {
     "name": "stdout",
     "output_type": "stream",
     "text": [
      "set()\n",
      "{1, 2, 'shubham', 'pandey'}\n",
      "{1, 2, 'm', 'b', 's', 'u', 'h', ('pandey', 3), 'a'}\n",
      "{1, 2, 'm', 4, 5, 6, 'b', 's', 'u', 'h', ('pandey', 3), 'a'}\n",
      "False\n",
      "{1, 2, 'm', 4, 6, 'b', 's', 'u', 'h', ('pandey', 3), 'a'}\n",
      "{1, 2, 'm', 4, 'b', 's', 'u', 'h', ('pandey', 3), 'a'}\n",
      "set()\n"
     ]
    }
   ],
   "source": [
    "#SETS ARE MUTABLE AND UNIQUE ELEMENTS\n",
    "\n",
    "#initiating an empty set\n",
    "set1 = set()\n",
    "print(set1)\n",
    "set1 = set([1,\"shubham\",2,1,1,\"pandey\",\"shubham\"])\n",
    "print(set1)\n",
    "\n",
    "#adding elements to set\n",
    "set2 = set(\"shubham\")\n",
    "set2.add(1)\n",
    "set2.add(2)\n",
    "\n",
    "#add tuples not list\n",
    "set2.add((\"pandey\",3))\n",
    "print(set2)\n",
    "set2.update([4,5,6])\n",
    "print(set2)\n",
    "\n",
    "# access set element\n",
    "print(5 in set2)\n",
    "\n",
    "#remove element\n",
    "set2.remove(5)\n",
    "print(set2)\n",
    "set2.discard(6)\n",
    "print(set2)\n",
    "set2.clear()\n",
    "print(set2)"
   ]
  },
  {
   "cell_type": "code",
   "execution_count": null,
   "metadata": {},
   "outputs": [
    {
     "name": "stdout",
     "output_type": "stream",
     "text": [
      "3\n",
      "{1: 'shubham', 'pandey': 'shubh', 'multi': {2: 3, 's': 'p'}}\n",
      "{1: 'shubham', 'pandey': 'shubh', 'multi': {2: 3}}\n",
      "{}\n"
     ]
    }
   ],
   "source": [
    "#DICTIONARY, KEY VALUE PAIR (KEYS : UNIQUE AND IMMUTABLE)\n",
    "dict1 = {1:\"shubham\", \"pandey\":[20,10], \"multi\" : {2:3,'s':'p'}}\n",
    "\n",
    "#accessing element\n",
    "print(dict1['multi'][2])\n",
    "\n",
    "#modifying\n",
    "dict1[\"pandey\"] = \"shubh\"\n",
    "print(dict1)\n",
    "\n",
    "#removing and deletion\n",
    "del dict1['multi']['s']\n",
    "print(dict1)\n",
    "dict1.clear()\n",
    "print(dict1)"
   ]
  },
  {
   "cell_type": "code",
   "execution_count": null,
   "metadata": {},
   "outputs": [
    {
     "name": "stdout",
     "output_type": "stream",
     "text": [
      "1 2 3 4\n"
     ]
    }
   ],
   "source": [
    "# PACKING, UNPACKING\n",
    "def fun(a,b,c,d):\n",
    "    print(a,b,c,d)\n",
    "\n",
    "list1 = [1,2,3,4]\n",
    "fun(*list1)"
   ]
  },
  {
   "cell_type": "code",
   "execution_count": null,
   "metadata": {},
   "outputs": [
    {
     "name": "stdout",
     "output_type": "stream",
     "text": [
      "before 10 and 20\n",
      "after 20 and 10\n"
     ]
    }
   ],
   "source": [
    "#SWAP NUMBERS\n",
    "x,y=10,20\n",
    "print(\"before {} and {}\".format(x,y))\n",
    "x,y=y,x\n",
    "print(\"after {} and {}\".format(x,y))"
   ]
  },
  {
   "cell_type": "code",
   "execution_count": null,
   "metadata": {},
   "outputs": [
    {
     "name": "stdout",
     "output_type": "stream",
     "text": [
      "common 12\n",
      "yes\n",
      "no\n"
     ]
    }
   ],
   "source": [
    "#OPERATOR IN, NOT IN, ANY, ALL\n",
    "list1=[3,6,9,12,15,18]\n",
    "list2=[4,8,12,16,20]\n",
    "for x in list1:\n",
    "    for y in list2:\n",
    "        if x==y:\n",
    "            print(\"common\",x)\n",
    "\n",
    "if(any([(3>4),(9>12),(12>8)])):\n",
    "    print(\"yes\")\n",
    "else: print(\"no\")\n",
    "\n",
    "if(all([3>4,9>12,12>8])):\n",
    "    print(\"yes\")\n",
    "else: print(\"no\")"
   ]
  },
  {
   "cell_type": "code",
   "execution_count": null,
   "metadata": {},
   "outputs": [],
   "source": [
    "#LOOPS\n",
    "i = 0\n",
    "for i in range(0,10):\n",
    "    print(i)\n",
    "\n",
    "a, b, c, d, e, f = 0, 5, 12, 0, 15, 15\n",
    "exp1 = a <= b < c > d is not e is f \n",
    "exp2 = a is d > f is not c"
   ]
  },
  {
   "cell_type": "code",
   "execution_count": null,
   "metadata": {},
   "outputs": [
    {
     "name": "stdout",
     "output_type": "stream",
     "text": [
      "this function checks if number is even or odd\n",
      "even\n",
      "odd\n",
      "5 and 10\n",
      "1 and 20\n",
      "5 and 10\n"
     ]
    }
   ],
   "source": [
    "#FUNCTIONS\n",
    "def evenOdd(x):\n",
    "    \"this function checks if number is even or odd\"\n",
    "    if (x%2==0):\n",
    "        print(\"even\")\n",
    "    else:\n",
    "        print(\"odd\")\n",
    "print(evenOdd.__doc__)\n",
    "evenOdd(2)\n",
    "evenOdd(3)\n",
    "\n",
    "def twoNum(x,y=20):\n",
    "    print(\"%s and %s\" %(x,y))\n",
    "\n",
    "twoNum(5,10)\n",
    "twoNum(1)\n",
    "twoNum(y=10,x=5)"
   ]
  },
  {
   "cell_type": "code",
   "execution_count": null,
   "metadata": {},
   "outputs": [
    {
     "name": "stdout",
     "output_type": "stream",
     "text": [
      "1\n",
      "2\n",
      "3\n"
     ]
    }
   ],
   "source": [
    "#Yield and Pass usage\n",
    "def myFun():\n",
    "    pass\n",
    "myFun()\n",
    "\n",
    "def yieldFun():\n",
    "    yield(1)\n",
    "    yield(2)\n",
    "    yield(3)\n",
    "for value in yieldFun():\n",
    "    print(value)"
   ]
  },
  {
   "cell_type": "code",
   "execution_count": null,
   "metadata": {},
   "outputs": [
    {
     "name": "stdout",
     "output_type": "stream",
     "text": [
      "Geeksforgeeks\n",
      "25\n",
      "shubham is 25 years old\n"
     ]
    }
   ],
   "source": [
    "#RETURNING VALUES FROM FUNCTION\n",
    "#multiple values\n",
    "#using objects\n",
    "\n",
    "class Test:\n",
    "    def __init__(self):\n",
    "        \"class Test constructor\"\n",
    "        self.name = \"Geeksforgeeks\"\n",
    "        self.age = 25\n",
    "\n",
    "def checkValues():\n",
    "    \"Inside check value function\"\n",
    "    return Test()\n",
    "\n",
    "obj = checkValues()\n",
    "print(obj.name)\n",
    "print(obj.age)\n",
    "\n",
    "#using list\n",
    "def start():\n",
    "    name = \"shubham\"\n",
    "    age = 25\n",
    "    return [name,age]\n",
    "\n",
    "list = start()\n",
    "print(\"{} is {} years old\". format(list[0], list[1]))"
   ]
  },
  {
   "cell_type": "code",
   "execution_count": null,
   "metadata": {},
   "outputs": [
    {
     "name": "stdout",
     "output_type": "stream",
     "text": [
      "128\n"
     ]
    }
   ],
   "source": [
    "#partial functions\n",
    "from functools import *\n",
    "def f1(a,b,c,d):\n",
    "    return 100*a+10*b+c+d\n",
    "g = partial(f1,1,2,3)\n",
    "print(g(5))"
   ]
  },
  {
   "cell_type": "code",
   "execution_count": null,
   "metadata": {},
   "outputs": [
    {
     "name": "stdout",
     "output_type": "stream",
     "text": [
      "8\n",
      "2\n",
      "3\n",
      "17\n"
     ]
    }
   ],
   "source": [
    "#function as objects and as argument\n",
    "def addfun(x,y):\n",
    "    return x+y;\n",
    "print(addfun(3,5))\n",
    "myfun = addfun\n",
    "print(myfun(1,1))\n",
    "\n",
    "def subfun(x,y):\n",
    "    return x-y;\n",
    "\n",
    "def callfun(func):\n",
    "    print(func(10,7))\n",
    "\n",
    "callfun(subfun)\n",
    "callfun(addfun)"
   ]
  },
  {
   "cell_type": "code",
   "execution_count": null,
   "metadata": {},
   "outputs": [
    {
     "name": "stdout",
     "output_type": "stream",
     "text": [
      "trunc : 12, floor : 12. ceil : 13\n"
     ]
    }
   ],
   "source": [
    "# PRECSION IN VALUES\n",
    "# using math module\n",
    "\n",
    "import math\n",
    "a = 12.345\n",
    "print(\"trunc : {}, floor : {}. ceil : {}\".format(math.trunc(a),math.floor(a),math.ceil(a)))"
   ]
  },
  {
   "cell_type": "code",
   "execution_count": null,
   "metadata": {},
   "outputs": [
    {
     "name": "stdout",
     "output_type": "stream",
     "text": [
      "12\n",
      "1\n",
      "2\n",
      "3\n",
      "4\n",
      "name : shubham\n"
     ]
    }
   ],
   "source": [
    "# *args and **kwargs to pass variable arguments to a function\n",
    "\n",
    "#function taking variable arguments\n",
    "def myfun(arg1, *args, **kwargs):\n",
    "    print(arg1)\n",
    "    for each in args:\n",
    "        print(each)\n",
    "    for key,value in kwargs.items():\n",
    "        print(key + \" : \" + value)\n",
    "\n",
    "myfun(12,1,2,3,4,name = \"shubham\")\n",
    "\n",
    "\n",
    "\n",
    "    "
   ]
  },
  {
   "cell_type": "code",
   "execution_count": 3,
   "metadata": {},
   "outputs": [
    {
     "name": "stdout",
     "output_type": "stream",
     "text": [
      "<re.Match object; span=(20, 32), match='415-123-0000'>\n",
      "['415-123-0000', '783-828-3212']\n"
     ]
    }
   ],
   "source": [
    "# Regular expressions.\n",
    "#\n",
    "#Like phone number : 415-123-0000 and 783-828-3212  is a phn number. 12,34,569 is not.\n",
    "\n",
    "import re\n",
    "\n",
    "msg = 'Like phone number : 415-123-0000 and 783-828-3212  is a phn number. 12,34,569 is not.'\n",
    "phno =  re.compile(r'\\d\\d\\d-\\d\\d\\d-\\d\\d\\d\\d')\n",
    "mo = phno.search(msg)                            #only first occurance\n",
    "print(mo.group())\n",
    "\n",
    "\n",
    "mo = phno.findall(msg)\n",
    "print(mo)\n",
    "\n"
   ]
  },
  {
   "cell_type": "code",
   "execution_count": null,
   "metadata": {},
   "outputs": [
    {
     "name": "stdout",
     "output_type": "stream",
     "text": [
      "[('415', '123', '0000'), ('783', '828', '3212')]\n"
     ]
    }
   ],
   "source": [
    "msg = 'Like phone number : 415-123-0000 and 783-828-3212  is a phn number. 12,34,569 is not.'\n",
    "phno =  re.compile(r'(\\d\\d\\d)-(\\d\\d\\d)-(\\d\\d\\d\\d)')\n",
    "mo = phno.findall(msg)\n",
    "print(mo)"
   ]
  },
  {
   "cell_type": "code",
   "execution_count": null,
   "metadata": {},
   "outputs": [
    {
     "name": "stdout",
     "output_type": "stream",
     "text": [
      "['(783)-828-3212']\n"
     ]
    }
   ],
   "source": [
    "msg = 'Like phone number : 415-123-0000 and (783)-828-3212  is a phn number. 12,34,569 is not.'\n",
    "phno =  re.compile(r'\\(\\d\\d\\d\\)-\\d\\d\\d-\\d\\d\\d\\d')\n",
    "mo = phno.findall(msg)\n",
    "print(mo)"
   ]
  },
  {
   "cell_type": "code",
   "execution_count": null,
   "metadata": {},
   "outputs": [
    {
     "name": "stdout",
     "output_type": "stream",
     "text": [
      "['-0-', '(783)-828-3212']\n"
     ]
    }
   ],
   "source": [
    "msg = 'Like phone number : 415-123-0-000 and (783)-828-3212  is a phn number. 12,34,569 is not.'\n",
    "phno =  re.compile(r'\\(\\d\\d\\d\\)-\\d\\d\\d-\\d\\d\\d\\d|-\\d-')\n",
    "mo = phno.findall(msg)\n",
    "print(mo)"
   ]
  },
  {
   "cell_type": "code",
   "execution_count": null,
   "metadata": {},
   "outputs": [
    {
     "name": "stdout",
     "output_type": "stream",
     "text": [
      "['hello', 'helo', 'heo']\n"
     ]
    }
   ],
   "source": [
    "msg = 'hello helo heo'\n",
    "phno =  re.compile(r'hel?l?o')   \n",
    "mo = phno.findall(msg)\n",
    "print(mo)"
   ]
  },
  {
   "cell_type": "code",
   "execution_count": null,
   "metadata": {},
   "outputs": [
    {
     "name": "stdout",
     "output_type": "stream",
     "text": [
      "['helllo', 'helo', 'heo']\n"
     ]
    }
   ],
   "source": [
    "msg = 'helllo helo heo'\n",
    "phno =  re.compile(r'hel*o')\n",
    "mo = phno.findall(msg)\n",
    "print(mo)"
   ]
  },
  {
   "cell_type": "code",
   "execution_count": null,
   "metadata": {},
   "outputs": [
    {
     "name": "stdout",
     "output_type": "stream",
     "text": [
      "['helll', 'hel']\n"
     ]
    }
   ],
   "source": [
    "msg = 'helllo helo heo'\n",
    "phno =  re.compile(r'hel+')\n",
    "mo = phno.findall(msg)\n",
    "print(mo)"
   ]
  },
  {
   "cell_type": "code",
   "execution_count": null,
   "metadata": {},
   "outputs": [
    {
     "name": "stdout",
     "output_type": "stream",
     "text": [
      "['helllo']\n"
     ]
    }
   ],
   "source": [
    "msg = 'helllo helo heo'\n",
    "phno =  re.compile(r'hel{3}o')\n",
    "mo = phno.findall(msg)\n",
    "print(mo)"
   ]
  },
  {
   "cell_type": "code",
   "execution_count": null,
   "metadata": {},
   "outputs": [
    {
     "name": "stdout",
     "output_type": "stream",
     "text": [
      "shubhamshubhamshubham\n"
     ]
    }
   ],
   "source": [
    "\n",
    "msg = 'shubhamshubhamshubham'\n",
    "phno =  re.compile(r'(shubham){3}')\n",
    "mo = phno.search(msg)\n",
    "print(mo.group())"
   ]
  },
  {
   "cell_type": "code",
   "execution_count": 34,
   "metadata": {},
   "outputs": [
    {
     "name": "stdout",
     "output_type": "stream",
     "text": [
      "['10 shubham', '9 sonam', '1 suman']\n"
     ]
    }
   ],
   "source": [
    "msg = \"10 shubham pandey, 9 sonam pandey, 1 suman pandey\"\n",
    "phno = re.compile(r'\\d+\\s\\w+')\n",
    "mo = phno.findall(msg)\n",
    "print(phno.findall(msg))"
   ]
  },
  {
   "cell_type": "code",
   "execution_count": null,
   "metadata": {},
   "outputs": [
    {
     "name": "stdout",
     "output_type": "stream",
     "text": [
      "['f', 'v', 'r', 's', 'p', 'n', 'p', 'n', 'n', 'm', 'm', 's', 's', 's', 'p', 'p']\n"
     ]
    }
   ],
   "source": [
    "msg = \"favour spine pannama missisippie\"\n",
    "phno = re.compile(r'[^aeiou\\s]')\n",
    "mo = phno.findall(msg)\n",
    "print(mo)"
   ]
  },
  {
   "cell_type": "code",
   "execution_count": 29,
   "metadata": {},
   "outputs": [
    {
     "name": "stdout",
     "output_type": "stream",
     "text": [
      "['Shubham']\n",
      "['uler']\n",
      "['1234']\n"
     ]
    }
   ],
   "source": [
    "obj =  re.compile(r'^S[a-z]+')\n",
    "obj1 = re.compile(r'[a-z]+er$')\n",
    "obj2 = re.compile(r'^\\d*$')\n",
    "msg = \"Shubham Shanks star\"\n",
    "msg1 = \"Biller Erik Ruler\"\n",
    "msg2 = \"1234\"\n",
    "mo = obj.findall(msg)\n",
    "mo1 = obj1.findall(msg1)\n",
    "mo2 = obj2.findall(msg2)\n",
    "print(mo)\n",
    "print(mo1)\n",
    "print(mo2)"
   ]
  },
  {
   "cell_type": "code",
   "execution_count": 42,
   "metadata": {},
   "outputs": [
    {
     "name": "stdout",
     "output_type": "stream",
     "text": [
      "['Hat', ' Cat', ' Rat', ' mat', ' chat']\n"
     ]
    }
   ],
   "source": [
    "obj =  re.compile(r'.*?at')\n",
    "msg = \"Hat Cat Rat mat chat\"\n",
    "mo = obj.findall(msg)\n",
    "print(mo)"
   ]
  },
  {
   "cell_type": "code",
   "execution_count": 7,
   "metadata": {},
   "outputs": [
    {
     "name": "stdout",
     "output_type": "stream",
     "text": [
      "['Customer1: 7', 'Customer2: 9']\n",
      "Customer : ********, Customer : ********\n"
     ]
    }
   ],
   "source": [
    "import re\n",
    "msg = \"Customer1: 7838283212, Customer2: 9953557391\"\n",
    "obj = re.compile(r'Customer\\d:\\s\\d')\n",
    "mo = re.sub(r'Customer\\d:\\s\\d+',\"Customer : ********\", \"Customer1: 7838283212, Customer2: 9953557391\")\n",
    "print(obj.findall(msg))\n",
    "print(mo)"
   ]
  },
  {
   "cell_type": "code",
   "execution_count": 35,
   "metadata": {},
   "outputs": [
    {
     "name": "stdout",
     "output_type": "stream",
     "text": [
      "1 : Shubham,7838283212,shubh@gmail.com\n",
      "2 : Sonam,7838283213,sonam@gmail.com\n",
      "3 : Suman,7838283214,suman@gmail.com\n"
     ]
    }
   ],
   "source": [
    "# Program to print name, phno and email.\n",
    "\n",
    "import re\n",
    "text = ''' This is \n",
    "Shubham Pandey 7838283212 shubh@gmail.com \n",
    "this is \n",
    "Sonam Pandey 7838283213 sonam@gmail.com \n",
    "and this is\n",
    "Suman Pandey 7838283214 suman@gmail.com \n",
    "'''\n",
    "\n",
    "nameRegex = re.compile(r'''\n",
    "S\\w+         #first-names starting with S\n",
    "''', re.VERBOSE)\n",
    "\n",
    "name_list = nameRegex.findall(text)\n",
    "\n",
    "phRegex = re.compile('''\n",
    "\\d{10}       # 10 digit phono.\n",
    "''', re.VERBOSE)\n",
    "\n",
    "phlist = phRegex.findall(text)\n",
    "\n",
    "emailRegex = re.compile(r'''\n",
    "[a-zA-Z0-9.-_]*       #name-part of email.\n",
    "@                   \n",
    "[a-zA-Z0-9.-_]*   #domain.com              \n",
    "''', re.VERBOSE)\n",
    "\n",
    "emaillist = emailRegex.findall(text)\n",
    "\n",
    "for item in range(0, min(len(name_list), len(emaillist), len(phlist))):\n",
    "    print( str(item+1) + \" : \" + name_list[item] + \",\" + phlist[item] + \",\" + emaillist[item])"
   ]
  },
  {
   "cell_type": "code",
   "execution_count": 59,
   "metadata": {},
   "outputs": [
    {
     "name": "stdout",
     "output_type": "stream",
     "text": [
      "/home/shubh13m\n"
     ]
    },
    {
     "data": {
      "text/plain": [
       "['VirtualBox VMs',\n",
       " 'Music',\n",
       " 'Videos',\n",
       " '.pki',\n",
       " 'snap',\n",
       " 'Downloads',\n",
       " '.profile',\n",
       " '.ipython',\n",
       " '.vagrant.d',\n",
       " '.local',\n",
       " '.bashrc',\n",
       " '.gnome',\n",
       " '.sudo_as_admin_successful',\n",
       " '.cache',\n",
       " '.bash_logout',\n",
       " 'Public',\n",
       " 'Pictures',\n",
       " '.vscode',\n",
       " 'Templates',\n",
       " '.gnupg',\n",
       " '.ssh',\n",
       " 'Desktop',\n",
       " '.config',\n",
       " '.jupyter',\n",
       " '.viminfo',\n",
       " '.thunderbird',\n",
       " 'workspace',\n",
       " '.mozilla',\n",
       " '.bash_history',\n",
       " 'Documents']"
      ]
     },
     "execution_count": 59,
     "metadata": {},
     "output_type": "execute_result"
    }
   ],
   "source": [
    "import os\n",
    "os.path.join('workspace','ww8','v2.0')\n",
    "current_path = os.getcwd()\n",
    "print(current_path)\n",
    "os.path.getsize(current_path)\n",
    "os.path.isfile(current_path)\n",
    "os.path.isdir(current_path)\n",
    "os.listdir(current_path)"
   ]
  },
  {
   "cell_type": "code",
   "execution_count": 99,
   "metadata": {},
   "outputs": [
    {
     "name": "stdout",
     "output_type": "stream",
     "text": [
      "/home/shubh13m/workspace/workspace/python\n",
      "NITDo \n",
      "how are you ?\n",
      "My name is Shubham Pandey\n"
     ]
    }
   ],
   "source": [
    "import os\n",
    "os.chdir('/home/shubh13m/workspace/workspace/python/')\n",
    "print(os.getcwd())\n",
    "myfiler = open('readyFile.txt','r')\n",
    "content = myfiler.read()\n",
    "myfilew = open('readyFile.txt','a+')\n",
    "myfilew.write('NITD')\n",
    "print(content)\n",
    "myfilew.close()\n",
    "myfiler.close()\n"
   ]
  },
  {
   "cell_type": "code",
   "execution_count": 3,
   "metadata": {},
   "outputs": [],
   "source": [
    "import shutil\n",
    "#shutil.copy('readyFile.txt','readFile.txt')\n",
    "#os.makedirs('temp')\n",
    "#shutil.move('temp','tempPy')\n",
    "#shutil.move('readyFile.txt','tempPy/readyFile.txt')\n",
    "#shutil.copytree('tempPy','tempPyFiles')"
   ]
  },
  {
   "cell_type": "code",
   "execution_count": 4,
   "metadata": {},
   "outputs": [],
   "source": [
    "for folderName, subFolderName, fileName in os.walk('/home/shubh13m/workspace/workspace/python/'):\n",
    "    for file in fileName:\n",
    "        if(file.endswith('.txt')):\n",
    "            shutil.copy(os.path.join(folderName,file),os.path.join(folderName,file+'.text'))\n",
    "\n",
    "            "
   ]
  },
  {
   "cell_type": "code",
   "execution_count": 7,
   "metadata": {},
   "outputs": [
    {
     "name": "stdout",
     "output_type": "stream",
     "text": [
      "['/home/shubh13m/.local/lib/python3.8/site-packages/ipykernel_launcher.py', '-f', '/home/shubh13m/.local/share/jupyter/runtime/kernel-850fdab9-82bc-4c3c-a57f-559fd39de565.json']\n"
     ]
    }
   ],
   "source": [
    "import webbrowser, sys\n",
    "webbrowser.open('shubh13m.github.io')\n"
   ]
  },
  {
   "cell_type": "code",
   "execution_count": 17,
   "metadata": {},
   "outputs": [
    {
     "name": "stdout",
     "output_type": "stream",
     "text": [
      "<html>\n",
      "<head>\n",
      "<title>Hi! I'm SHUBHAM PANDEY</title>\n",
      "<script languag\n"
     ]
    }
   ],
   "source": [
    "import requests\n",
    "rget = requests.get('https://shubh13m.github.io')\n",
    "print(rget.text[:67])\n",
    "writeFile = open('githubhFileDown.txt','wb')\n",
    "for byte in rget.iter_content(1000):\n",
    "    writeFile.write(byte)\n",
    "writeFile.close()\n"
   ]
  },
  {
   "cell_type": "code",
   "execution_count": 26,
   "metadata": {},
   "outputs": [
    {
     "name": "stdout",
     "output_type": "stream",
     "text": [
      "Temp is : 16°\n"
     ]
    }
   ],
   "source": [
    "import bs4, requests\n",
    "pageTxt = requests.get(\"https://weather.com/en-IN/weather/today/l/d884bf8e15624162758659a71e31e084981e92c367a7bfa15c345c9b92d688c4\")\n",
    "bs = bs4.BeautifulSoup(pageTxt.text)\n",
    "ele = bs.select('#WxuCurrentConditions-main-b3094163-ef75-4558-8d9a-e35e6b9b1034 > div > section > div > div.CurrentConditions--body--8sQIV > div.CurrentConditions--columns--3KgfN > div.CurrentConditions--primary--2SVPh > span')\n",
    "print(\"Temp is : \" + ele[0].text)\n"
   ]
  },
  {
   "cell_type": "code",
   "execution_count": 39,
   "metadata": {},
   "outputs": [
    {
     "name": "stdout",
     "output_type": "stream",
     "text": [
      "Total cases : 423127. Today's cases : 55755\n"
     ]
    }
   ],
   "source": [
    "import requests, bs4, re\n",
    "pgTxt = requests.get('https://www.mohfw.gov.in/')\n",
    "bsobj = bs4.BeautifulSoup(pgTxt.text)\n",
    "ele = bsobj.select('#site-dashboard > div > div > div:nth-child(1) > div.col-xs-8.site-stats-count > ul > li.bg-blue > span:nth-child(5) > strong')\n",
    "msg = ele[0].text\n",
    "obj = re.compile(r'\\d+')\n",
    "print(\"Total cases : \" + obj.findall(msg)[0] + \". Today's cases : \" + obj.findall(msg)[1]  )\n"
   ]
  },
  {
   "cell_type": "code",
   "execution_count": 6,
   "metadata": {},
   "outputs": [
    {
     "name": "stdout",
     "output_type": "stream",
     "text": [
      "mammal\n",
      "dog\n",
      "Im a mammal\n",
      "Im a  dog\n"
     ]
    }
   ],
   "source": [
    "class Dog:\n",
    "    att1 = 'mammal'\n",
    "    att2 = 'dog'\n",
    "    def fun(self):\n",
    "        print('Im a', self.att1)\n",
    "        print('Im a ', self.att2)\n",
    "\n",
    "Rodge = Dog()\n",
    "\n",
    "print(Rodge.att1)\n",
    "print(Rodge.att2)\n",
    "Rodge.fun()\n"
   ]
  },
  {
   "cell_type": "code",
   "execution_count": 17,
   "metadata": {},
   "outputs": [
    {
     "name": "stdout",
     "output_type": "stream",
     "text": [
      "My name is  Rohan\n"
     ]
    }
   ],
   "source": [
    "class Person:\n",
    "    def __init__ (self,name):\n",
    "        self.name = name\n",
    "    def sayHello(self):\n",
    "        print('My name is ', self.name)\n",
    "\n",
    "p1 = Person('Rohan')\n",
    "p1.sayHello()"
   ]
  },
  {
   "cell_type": "code",
   "execution_count": 23,
   "metadata": {},
   "outputs": [
    {
     "name": "stdout",
     "output_type": "stream",
     "text": [
      "This is palo and breed is alto\n",
      "This is pablo and breed is esc\n",
      "type is  dog\n",
      "type is  dog\n"
     ]
    }
   ],
   "source": [
    "class Dog:\n",
    "    type = 'dog'\n",
    "    def __init__(self,name,breed):\n",
    "        self.name = name\n",
    "        self.breed = breed\n",
    "    def getDog(self):\n",
    "        print('This is {} and breed is {}'.format(self.name, self.breed))\n",
    "\n",
    "dog1 = Dog('palo','alto')\n",
    "dog2 = Dog('pablo','esc')\n",
    "\n",
    "dog1.getDog()\n",
    "dog2.getDog()\n",
    "\n",
    "print('type is ',dog1.type)\n",
    "print('type is ',dog2.type)"
   ]
  },
  {
   "cell_type": "code",
   "execution_count": 25,
   "metadata": {},
   "outputs": [
    {
     "name": "stdout",
     "output_type": "stream",
     "text": [
      "The first occurrence of str2 is at : 8\n",
      "The last occurrence of str2 is at : 21\n"
     ]
    }
   ],
   "source": [
    "# Python code to demonstrate working of \n",
    "# find() and rfind()\n",
    "str = \"geeksforgeeks is for geeks\"\n",
    "str2 = \"geeks\"\n",
    "\n",
    "# using find() to find first occurrence of str2\n",
    "# returns 8\n",
    "print (\"The first occurrence of str2 is at : \", end=\"\")\n",
    "print (str.find( str2, 1) )\n",
    "\n",
    "# using rfind() to find last occurrence of str2\n",
    "# returns 21\n",
    "print (\"The last occurrence of str2 is at : \", end=\"\")\n",
    "print ( str.rfind( str2, 4) )"
   ]
  },
  {
   "cell_type": "code",
   "execution_count": 32,
   "metadata": {},
   "outputs": [
    {
     "name": "stdout",
     "output_type": "stream",
     "text": [
      "s-h-u-b-h-a-m- -p-a-n-d-e-y-s-h-u-b-h\n",
      "['shubham', 'pandeyshubh']\n"
     ]
    }
   ],
   "source": [
    "str1 = '-'\n",
    "str2 = 'shubham pandeyshubh'\n",
    "print(str1.join(str2))\n",
    "print(str2.split())"
   ]
  }
 ],
 "metadata": {
  "kernelspec": {
   "display_name": "Python 3",
   "language": "python",
   "name": "python3"
  },
  "language_info": {
   "codemirror_mode": {
    "name": "ipython",
    "version": 3
   },
   "file_extension": ".py",
   "mimetype": "text/x-python",
   "name": "python",
   "nbconvert_exporter": "python",
   "pygments_lexer": "ipython3",
   "version": "3.13.1"
  },
  "orig_nbformat": 2
 },
 "nbformat": 4,
 "nbformat_minor": 2
}
