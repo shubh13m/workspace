{
 "cells": [
  {
   "cell_type": "code",
   "execution_count": 1,
   "metadata": {},
   "outputs": [
    {
     "name": "stdout",
     "output_type": "stream",
     "text": [
      "Collecting numpy\n",
      "  Downloading numpy-2.2.3-cp313-cp313-win_amd64.whl.metadata (60 kB)\n",
      "Downloading numpy-2.2.3-cp313-cp313-win_amd64.whl (12.6 MB)\n",
      "   ---------------------------------------- 0.0/12.6 MB ? eta -:--:--\n",
      "   --------------- ------------------------ 5.0/12.6 MB 28.4 MB/s eta 0:00:01\n",
      "   ---------------------------------------- 12.6/12.6 MB 34.7 MB/s eta 0:00:00\n",
      "Installing collected packages: numpy\n",
      "Successfully installed numpy-2.2.3\n"
     ]
    },
    {
     "name": "stderr",
     "output_type": "stream",
     "text": [
      "\n",
      "[notice] A new release of pip is available: 24.3.1 -> 25.0.1\n",
      "[notice] To update, run: python.exe -m pip install --upgrade pip\n"
     ]
    }
   ],
   "source": [
    "!pip install numpy"
   ]
  },
  {
   "cell_type": "code",
   "execution_count": 3,
   "metadata": {},
   "outputs": [
    {
     "data": {
      "text/plain": [
       "<module 'numpy' from 'c:\\\\Users\\\\shubh\\\\AppData\\\\Local\\\\Programs\\\\Python\\\\Python313\\\\Lib\\\\site-packages\\\\numpy\\\\__init__.py'>"
      ]
     },
     "execution_count": 3,
     "metadata": {},
     "output_type": "execute_result"
    }
   ],
   "source": [
    "import numpy as np"
   ]
  },
  {
   "cell_type": "code",
   "execution_count": 11,
   "metadata": {},
   "outputs": [
    {
     "data": {
      "text/plain": [
       "[[1, 2, 3, 4], [9, 8, 7, 6]]"
      ]
     },
     "execution_count": 11,
     "metadata": {},
     "output_type": "execute_result"
    }
   ],
   "source": [
    "list = [[1,2,3,4],[9,8,7,6]]\n",
    "list"
   ]
  },
  {
   "cell_type": "code",
   "execution_count": 13,
   "metadata": {},
   "outputs": [
    {
     "data": {
      "text/plain": [
       "numpy.ndarray"
      ]
     },
     "execution_count": 13,
     "metadata": {},
     "output_type": "execute_result"
    }
   ],
   "source": [
    "arr = np.array(list)\n",
    "arr\n",
    "type(arr)"
   ]
  },
  {
   "cell_type": "code",
   "execution_count": 14,
   "metadata": {},
   "outputs": [
    {
     "data": {
      "text/plain": [
       "2"
      ]
     },
     "execution_count": 14,
     "metadata": {},
     "output_type": "execute_result"
    }
   ],
   "source": [
    "arr.ndim"
   ]
  },
  {
   "cell_type": "code",
   "execution_count": 15,
   "metadata": {},
   "outputs": [
    {
     "data": {
      "text/plain": [
       "(2, 4)"
      ]
     },
     "execution_count": 15,
     "metadata": {},
     "output_type": "execute_result"
    }
   ],
   "source": [
    "arr.shape"
   ]
  },
  {
   "cell_type": "code",
   "execution_count": 16,
   "metadata": {},
   "outputs": [
    {
     "data": {
      "text/plain": [
       "8"
      ]
     },
     "execution_count": 16,
     "metadata": {},
     "output_type": "execute_result"
    }
   ],
   "source": [
    "arr.size"
   ]
  },
  {
   "cell_type": "code",
   "execution_count": 17,
   "metadata": {},
   "outputs": [
    {
     "data": {
      "text/plain": [
       "array([[0., 0.],\n",
       "       [0., 0.]])"
      ]
     },
     "execution_count": 17,
     "metadata": {},
     "output_type": "execute_result"
    }
   ],
   "source": [
    "np.zeros((2,2))"
   ]
  },
  {
   "cell_type": "code",
   "execution_count": 19,
   "metadata": {},
   "outputs": [
    {
     "data": {
      "text/plain": [
       "array([[1., 1.],\n",
       "       [1., 1.],\n",
       "       [1., 1.]])"
      ]
     },
     "execution_count": 19,
     "metadata": {},
     "output_type": "execute_result"
    }
   ],
   "source": [
    "np.ones((3,2))"
   ]
  },
  {
   "cell_type": "code",
   "execution_count": 20,
   "metadata": {},
   "outputs": [
    {
     "data": {
      "text/plain": [
       "array([[0.4316425 , 0.14105466, 0.40390572, 0.13256014],\n",
       "       [0.55238011, 0.92935828, 0.09858684, 0.729555  ],\n",
       "       [0.40194331, 0.31588534, 0.79285184, 0.60615085]])"
      ]
     },
     "execution_count": 20,
     "metadata": {},
     "output_type": "execute_result"
    }
   ],
   "source": [
    "np.random.random((3,4))"
   ]
  },
  {
   "cell_type": "code",
   "execution_count": 21,
   "metadata": {},
   "outputs": [
    {
     "name": "stdout",
     "output_type": "stream",
     "text": [
      "0.10460084577746409\n"
     ]
    }
   ],
   "source": [
    "print(np.random.random())"
   ]
  },
  {
   "cell_type": "code",
   "execution_count": 24,
   "metadata": {},
   "outputs": [
    {
     "data": {
      "text/plain": [
       "array([[0.77653324, 0.51689778, 0.72016016],\n",
       "       [0.12696575, 0.81532695, 0.39356389]])"
      ]
     },
     "execution_count": 24,
     "metadata": {},
     "output_type": "execute_result"
    }
   ],
   "source": [
    "arr = np.random.random((3,2))\n",
    "np.reshape(arr, (2,3))"
   ]
  },
  {
   "cell_type": "code",
   "execution_count": 25,
   "metadata": {},
   "outputs": [
    {
     "data": {
      "text/plain": [
       "array([0.77653324, 0.51689778, 0.72016016, 0.12696575, 0.81532695,\n",
       "       0.39356389])"
      ]
     },
     "execution_count": 25,
     "metadata": {},
     "output_type": "execute_result"
    }
   ],
   "source": [
    "arr.flatten()"
   ]
  },
  {
   "cell_type": "code",
   "execution_count": 29,
   "metadata": {},
   "outputs": [
    {
     "data": {
      "text/plain": [
       "array([3, 4, 5, 6, 7, 8])"
      ]
     },
     "execution_count": 29,
     "metadata": {},
     "output_type": "execute_result"
    }
   ],
   "source": [
    "arr = np.array([1,2,3,4,5,6])\n",
    "arr + 2"
   ]
  },
  {
   "cell_type": "code",
   "execution_count": 31,
   "metadata": {},
   "outputs": [
    {
     "data": {
      "text/plain": [
       "np.int64(1)"
      ]
     },
     "execution_count": 31,
     "metadata": {},
     "output_type": "execute_result"
    }
   ],
   "source": [
    "arr.max()\n",
    "arr.min()"
   ]
  },
  {
   "cell_type": "code",
   "execution_count": 35,
   "metadata": {},
   "outputs": [
    {
     "data": {
      "text/plain": [
       "array([[1, 2, 3],\n",
       "       [4, 5, 6],\n",
       "       [7, 8, 9]])"
      ]
     },
     "execution_count": 35,
     "metadata": {},
     "output_type": "execute_result"
    }
   ],
   "source": [
    "arr1 = np.array([[1,2,3],[4,5,6],[7,8,9]])\n",
    "arr2 = np.array([[1,1,1],[1,1,1],[1,1,1]])\n",
    "\n",
    "arr1 * arr2"
   ]
  },
  {
   "cell_type": "code",
   "execution_count": 39,
   "metadata": {},
   "outputs": [
    {
     "data": {
      "text/plain": [
       "array([[6]])"
      ]
     },
     "execution_count": 39,
     "metadata": {},
     "output_type": "execute_result"
    }
   ],
   "source": [
    "arr1[1:2,2:3]"
   ]
  },
  {
   "cell_type": "code",
   "execution_count": 42,
   "metadata": {},
   "outputs": [
    {
     "data": {
      "text/plain": [
       "array([[9, 4, 7],\n",
       "       [2, 3, 1],\n",
       "       [4, 7, 6]])"
      ]
     },
     "execution_count": 42,
     "metadata": {},
     "output_type": "execute_result"
    }
   ],
   "source": [
    "arr = np.array([[9,4,7],[2,3,1],[4,7,6]])\n",
    "arr"
   ]
  },
  {
   "cell_type": "code",
   "execution_count": 50,
   "metadata": {},
   "outputs": [
    {
     "data": {
      "text/plain": [
       "array([[4, 7, 9],\n",
       "       [1, 2, 3],\n",
       "       [4, 6, 7]])"
      ]
     },
     "execution_count": 50,
     "metadata": {},
     "output_type": "execute_result"
    }
   ],
   "source": [
    "np.sort(arr,axis=1,kind='mergesort')"
   ]
  },
  {
   "cell_type": "code",
   "execution_count": 51,
   "metadata": {},
   "outputs": [
    {
     "data": {
      "text/plain": [
       "array([[2, 3, 1],\n",
       "       [4, 4, 6],\n",
       "       [9, 7, 7]])"
      ]
     },
     "execution_count": 51,
     "metadata": {},
     "output_type": "execute_result"
    }
   ],
   "source": [
    "np.sort(arr,axis=0,kind='mergesort')"
   ]
  },
  {
   "cell_type": "code",
   "execution_count": 52,
   "metadata": {},
   "outputs": [
    {
     "data": {
      "text/plain": [
       "array([[4, 7, 9],\n",
       "       [1, 2, 3],\n",
       "       [4, 6, 7]])"
      ]
     },
     "execution_count": 52,
     "metadata": {},
     "output_type": "execute_result"
    }
   ],
   "source": [
    "np.sort(arr,kind='mergesort')"
   ]
  },
  {
   "cell_type": "code",
   "execution_count": 53,
   "metadata": {},
   "outputs": [],
   "source": [
    "arr1 = np.array([[1,2,3],[4,5,6],[7,8,9]])\n",
    "arr2 = np.array([[1,1,1],[1,1,1],[1,1,1]])"
   ]
  },
  {
   "cell_type": "code",
   "execution_count": 55,
   "metadata": {},
   "outputs": [
    {
     "data": {
      "text/plain": [
       "array([[1, 2, 3],\n",
       "       [4, 5, 6],\n",
       "       [7, 8, 9],\n",
       "       [1, 1, 1],\n",
       "       [1, 1, 1],\n",
       "       [1, 1, 1]])"
      ]
     },
     "execution_count": 55,
     "metadata": {},
     "output_type": "execute_result"
    }
   ],
   "source": [
    "np.vstack((arr1,arr2))"
   ]
  },
  {
   "cell_type": "code",
   "execution_count": 56,
   "metadata": {},
   "outputs": [
    {
     "data": {
      "text/plain": [
       "array([[1, 1, 1],\n",
       "       [1, 1, 1],\n",
       "       [1, 1, 1],\n",
       "       [1, 2, 3],\n",
       "       [4, 5, 6],\n",
       "       [7, 8, 9]])"
      ]
     },
     "execution_count": 56,
     "metadata": {},
     "output_type": "execute_result"
    }
   ],
   "source": [
    "np.vstack((arr2,arr1))"
   ]
  },
  {
   "cell_type": "code",
   "execution_count": 57,
   "metadata": {},
   "outputs": [
    {
     "data": {
      "text/plain": [
       "array([[1, 2, 3, 1, 1, 1],\n",
       "       [4, 5, 6, 1, 1, 1],\n",
       "       [7, 8, 9, 1, 1, 1]])"
      ]
     },
     "execution_count": 57,
     "metadata": {},
     "output_type": "execute_result"
    }
   ],
   "source": [
    "np.hstack((arr1,arr2))"
   ]
  },
  {
   "cell_type": "code",
   "execution_count": 58,
   "metadata": {},
   "outputs": [
    {
     "data": {
      "text/plain": [
       "array([[1, 1, 1, 1, 2, 3],\n",
       "       [1, 1, 1, 4, 5, 6],\n",
       "       [1, 1, 1, 7, 8, 9]])"
      ]
     },
     "execution_count": 58,
     "metadata": {},
     "output_type": "execute_result"
    }
   ],
   "source": [
    "np.hstack((arr2,arr1))"
   ]
  },
  {
   "cell_type": "code",
   "execution_count": 62,
   "metadata": {},
   "outputs": [
    {
     "name": "stdout",
     "output_type": "stream",
     "text": [
      "Requirement already satisfied: pandas in c:\\users\\shubh\\appdata\\local\\programs\\python\\python313\\lib\\site-packages (2.2.3)\n",
      "Requirement already satisfied: numpy>=1.26.0 in c:\\users\\shubh\\appdata\\local\\programs\\python\\python313\\lib\\site-packages (from pandas) (2.2.3)\n",
      "Requirement already satisfied: python-dateutil>=2.8.2 in c:\\users\\shubh\\appdata\\roaming\\python\\python313\\site-packages (from pandas) (2.9.0.post0)\n",
      "Requirement already satisfied: pytz>=2020.1 in c:\\users\\shubh\\appdata\\local\\programs\\python\\python313\\lib\\site-packages (from pandas) (2025.1)\n",
      "Requirement already satisfied: tzdata>=2022.7 in c:\\users\\shubh\\appdata\\local\\programs\\python\\python313\\lib\\site-packages (from pandas) (2025.1)\n",
      "Requirement already satisfied: six>=1.5 in c:\\users\\shubh\\appdata\\roaming\\python\\python313\\site-packages (from python-dateutil>=2.8.2->pandas) (1.17.0)\n"
     ]
    }
   ],
   "source": [
    "!pip install pandas"
   ]
  },
  {
   "cell_type": "code",
   "execution_count": 63,
   "metadata": {},
   "outputs": [],
   "source": [
    "import pandas"
   ]
  },
  {
   "cell_type": "code",
   "execution_count": 64,
   "metadata": {},
   "outputs": [
    {
     "data": {
      "text/plain": [
       "0    1\n",
       "1    2\n",
       "2    3\n",
       "3    4\n",
       "4    5\n",
       "dtype: int64"
      ]
     },
     "execution_count": 64,
     "metadata": {},
     "output_type": "execute_result"
    }
   ],
   "source": [
    "lst = [1,2,3,4,5]\n",
    "pandas.Series(lst)"
   ]
  },
  {
   "cell_type": "code",
   "execution_count": 69,
   "metadata": {},
   "outputs": [
    {
     "data": {
      "text/plain": [
       "0    [1, 2, 3, 4, 5]\n",
       "1    [0, 2, 0, 4, 0]\n",
       "2    [1, 2, 3, 4, 5]\n",
       "dtype: object"
      ]
     },
     "execution_count": 69,
     "metadata": {},
     "output_type": "execute_result"
    }
   ],
   "source": [
    "lst2 = [0,2,0,4,0]\n",
    "pandas.Series([lst,lst2,lst])"
   ]
  },
  {
   "cell_type": "code",
   "execution_count": 73,
   "metadata": {},
   "outputs": [
    {
     "data": {
      "text/html": [
       "<div>\n",
       "<style scoped>\n",
       "    .dataframe tbody tr th:only-of-type {\n",
       "        vertical-align: middle;\n",
       "    }\n",
       "\n",
       "    .dataframe tbody tr th {\n",
       "        vertical-align: top;\n",
       "    }\n",
       "\n",
       "    .dataframe thead th {\n",
       "        text-align: right;\n",
       "    }\n",
       "</style>\n",
       "<table border=\"1\" class=\"dataframe\">\n",
       "  <thead>\n",
       "    <tr style=\"text-align: right;\">\n",
       "      <th></th>\n",
       "      <th>A</th>\n",
       "      <th>B</th>\n",
       "      <th>C</th>\n",
       "      <th>D</th>\n",
       "      <th>E</th>\n",
       "    </tr>\n",
       "  </thead>\n",
       "  <tbody>\n",
       "    <tr>\n",
       "      <th>0</th>\n",
       "      <td>1</td>\n",
       "      <td>2</td>\n",
       "      <td>3</td>\n",
       "      <td>4</td>\n",
       "      <td>5</td>\n",
       "    </tr>\n",
       "    <tr>\n",
       "      <th>1</th>\n",
       "      <td>0</td>\n",
       "      <td>2</td>\n",
       "      <td>0</td>\n",
       "      <td>4</td>\n",
       "      <td>0</td>\n",
       "    </tr>\n",
       "    <tr>\n",
       "      <th>2</th>\n",
       "      <td>1</td>\n",
       "      <td>2</td>\n",
       "      <td>3</td>\n",
       "      <td>4</td>\n",
       "      <td>5</td>\n",
       "    </tr>\n",
       "  </tbody>\n",
       "</table>\n",
       "</div>"
      ],
      "text/plain": [
       "   A  B  C  D  E\n",
       "0  1  2  3  4  5\n",
       "1  0  2  0  4  0\n",
       "2  1  2  3  4  5"
      ]
     },
     "execution_count": 73,
     "metadata": {},
     "output_type": "execute_result"
    }
   ],
   "source": [
    "pandas.DataFrame([lst,lst2,lst], columns=['A','B','C','D','E'])"
   ]
  },
  {
   "cell_type": "code",
   "execution_count": 3,
   "metadata": {},
   "outputs": [
    {
     "data": {
      "text/html": [
       "<div>\n",
       "<style scoped>\n",
       "    .dataframe tbody tr th:only-of-type {\n",
       "        vertical-align: middle;\n",
       "    }\n",
       "\n",
       "    .dataframe tbody tr th {\n",
       "        vertical-align: top;\n",
       "    }\n",
       "\n",
       "    .dataframe thead th {\n",
       "        text-align: right;\n",
       "    }\n",
       "</style>\n",
       "<table border=\"1\" class=\"dataframe\">\n",
       "  <thead>\n",
       "    <tr style=\"text-align: right;\">\n",
       "      <th></th>\n",
       "      <th>A</th>\n",
       "      <th>B</th>\n",
       "      <th>C</th>\n",
       "      <th>D</th>\n",
       "      <th>E</th>\n",
       "    </tr>\n",
       "  </thead>\n",
       "  <tbody>\n",
       "    <tr>\n",
       "      <th>0</th>\n",
       "      <td>1</td>\n",
       "      <td>2</td>\n",
       "      <td>3</td>\n",
       "      <td>4</td>\n",
       "      <td>5</td>\n",
       "    </tr>\n",
       "    <tr>\n",
       "      <th>1</th>\n",
       "      <td>0</td>\n",
       "      <td>2</td>\n",
       "      <td>0</td>\n",
       "      <td>4</td>\n",
       "      <td>0</td>\n",
       "    </tr>\n",
       "  </tbody>\n",
       "</table>\n",
       "</div>"
      ],
      "text/plain": [
       "   A  B  C  D  E\n",
       "0  1  2  3  4  5\n",
       "1  0  2  0  4  0"
      ]
     },
     "execution_count": 3,
     "metadata": {},
     "output_type": "execute_result"
    }
   ],
   "source": [
    "import pandas as pd\n",
    "lst = [1,2,3,4,5]\n",
    "lst2 = [0,2,0,4,0]\n",
    "df = pd.DataFrame([lst,lst2], columns=['A','B','C','D','E'])\n",
    "df"
   ]
  },
  {
   "cell_type": "code",
   "execution_count": 158,
   "metadata": {},
   "outputs": [
    {
     "data": {
      "text/html": [
       "<div>\n",
       "<style scoped>\n",
       "    .dataframe tbody tr th:only-of-type {\n",
       "        vertical-align: middle;\n",
       "    }\n",
       "\n",
       "    .dataframe tbody tr th {\n",
       "        vertical-align: top;\n",
       "    }\n",
       "\n",
       "    .dataframe thead th {\n",
       "        text-align: right;\n",
       "    }\n",
       "</style>\n",
       "<table border=\"1\" class=\"dataframe\">\n",
       "  <thead>\n",
       "    <tr style=\"text-align: right;\">\n",
       "      <th></th>\n",
       "      <th>App</th>\n",
       "      <th>Category</th>\n",
       "      <th>Rating</th>\n",
       "      <th>Reviews</th>\n",
       "      <th>Size</th>\n",
       "      <th>Installs</th>\n",
       "      <th>Type</th>\n",
       "      <th>Proce</th>\n",
       "      <th>Content Rating</th>\n",
       "      <th>Genre</th>\n",
       "      <th>Last Updated</th>\n",
       "      <th>Current Version</th>\n",
       "      <th>Android Version</th>\n",
       "    </tr>\n",
       "  </thead>\n",
       "  <tbody>\n",
       "    <tr>\n",
       "      <th>0</th>\n",
       "      <td>App1</td>\n",
       "      <td>Lifestyle</td>\n",
       "      <td>3.8</td>\n",
       "      <td>2168.0</td>\n",
       "      <td>64M</td>\n",
       "      <td>500,000+</td>\n",
       "      <td>Free</td>\n",
       "      <td>4.99</td>\n",
       "      <td>Mature 17+</td>\n",
       "      <td>Social</td>\n",
       "      <td>February 15, 2023</td>\n",
       "      <td>1.0.0</td>\n",
       "      <td>7.1 and up</td>\n",
       "    </tr>\n",
       "    <tr>\n",
       "      <th>1</th>\n",
       "      <td>App2</td>\n",
       "      <td>Entertainment</td>\n",
       "      <td>3.0</td>\n",
       "      <td>3804.0</td>\n",
       "      <td>90M</td>\n",
       "      <td>1000,000+</td>\n",
       "      <td>Paid</td>\n",
       "      <td>4.99</td>\n",
       "      <td>Teen</td>\n",
       "      <td>Health &amp; Fitness</td>\n",
       "      <td>January 1, 2023</td>\n",
       "      <td>4.5.2</td>\n",
       "      <td>4.1 and up</td>\n",
       "    </tr>\n",
       "    <tr>\n",
       "      <th>2</th>\n",
       "      <td>App3</td>\n",
       "      <td>Lifestyle</td>\n",
       "      <td>4.4</td>\n",
       "      <td>639.0</td>\n",
       "      <td>9M</td>\n",
       "      <td>1,000+</td>\n",
       "      <td>Free</td>\n",
       "      <td>0.00</td>\n",
       "      <td>Teen</td>\n",
       "      <td>Action</td>\n",
       "      <td>May 5, 2023</td>\n",
       "      <td>5.3.3</td>\n",
       "      <td>4.1 and up</td>\n",
       "    </tr>\n",
       "    <tr>\n",
       "      <th>3</th>\n",
       "      <td>App4</td>\n",
       "      <td>Social</td>\n",
       "      <td>4.9</td>\n",
       "      <td>3658.0</td>\n",
       "      <td>26M</td>\n",
       "      <td>5,000+</td>\n",
       "      <td>Free</td>\n",
       "      <td>2.99</td>\n",
       "      <td>Everyone</td>\n",
       "      <td>Action</td>\n",
       "      <td>January 1, 2023</td>\n",
       "      <td>7.0.0</td>\n",
       "      <td>5.0 and up</td>\n",
       "    </tr>\n",
       "    <tr>\n",
       "      <th>4</th>\n",
       "      <td>App5</td>\n",
       "      <td>Health</td>\n",
       "      <td>4.8</td>\n",
       "      <td>3721.0</td>\n",
       "      <td>57M</td>\n",
       "      <td>10,000+</td>\n",
       "      <td>Free</td>\n",
       "      <td>0.00</td>\n",
       "      <td>Teen</td>\n",
       "      <td>Tools</td>\n",
       "      <td>January 1, 2023</td>\n",
       "      <td>4.5.2</td>\n",
       "      <td>4.1 and up</td>\n",
       "    </tr>\n",
       "    <tr>\n",
       "      <th>5</th>\n",
       "      <td>App6</td>\n",
       "      <td>Entertainment</td>\n",
       "      <td>4.2</td>\n",
       "      <td>2652.0</td>\n",
       "      <td>14M</td>\n",
       "      <td>10,000+</td>\n",
       "      <td>Free</td>\n",
       "      <td>0.00</td>\n",
       "      <td>Teen</td>\n",
       "      <td>Social</td>\n",
       "      <td>April 20, 2023</td>\n",
       "      <td>6.1.1</td>\n",
       "      <td>6.0 and up</td>\n",
       "    </tr>\n",
       "    <tr>\n",
       "      <th>6</th>\n",
       "      <td>App7</td>\n",
       "      <td>Health</td>\n",
       "      <td>3.6</td>\n",
       "      <td>1101.0</td>\n",
       "      <td>14M</td>\n",
       "      <td>50,000+</td>\n",
       "      <td>Paid</td>\n",
       "      <td>1.99</td>\n",
       "      <td>Everyone</td>\n",
       "      <td>Education</td>\n",
       "      <td>May 5, 2023</td>\n",
       "      <td>6.1.1</td>\n",
       "      <td>4.0 and up</td>\n",
       "    </tr>\n",
       "  </tbody>\n",
       "</table>\n",
       "</div>"
      ],
      "text/plain": [
       "    App       Category  Rating  Reviews Size   Installs  Type  Proce  \\\n",
       "0  App1      Lifestyle     3.8   2168.0  64M   500,000+  Free   4.99   \n",
       "1  App2  Entertainment     3.0   3804.0  90M  1000,000+  Paid   4.99   \n",
       "2  App3      Lifestyle     4.4    639.0   9M     1,000+  Free   0.00   \n",
       "3  App4         Social     4.9   3658.0  26M     5,000+  Free   2.99   \n",
       "4  App5         Health     4.8   3721.0  57M    10,000+  Free   0.00   \n",
       "5  App6  Entertainment     4.2   2652.0  14M    10,000+  Free   0.00   \n",
       "6  App7         Health     3.6   1101.0  14M    50,000+  Paid   1.99   \n",
       "\n",
       "  Content Rating             Genre       Last Updated Current Version  \\\n",
       "0     Mature 17+            Social  February 15, 2023           1.0.0   \n",
       "1           Teen  Health & Fitness    January 1, 2023           4.5.2   \n",
       "2           Teen            Action        May 5, 2023           5.3.3   \n",
       "3       Everyone            Action    January 1, 2023           7.0.0   \n",
       "4           Teen             Tools    January 1, 2023           4.5.2   \n",
       "5           Teen            Social     April 20, 2023           6.1.1   \n",
       "6       Everyone         Education        May 5, 2023           6.1.1   \n",
       "\n",
       "  Android Version  \n",
       "0      7.1 and up  \n",
       "1      4.1 and up  \n",
       "2      4.1 and up  \n",
       "3      5.0 and up  \n",
       "4      4.1 and up  \n",
       "5      6.0 and up  \n",
       "6      4.0 and up  "
      ]
     },
     "execution_count": 158,
     "metadata": {},
     "output_type": "execute_result"
    }
   ],
   "source": [
    "data = pd.read_csv('googleplaystore.csv')\n",
    "data.head(7)"
   ]
  },
  {
   "cell_type": "code",
   "execution_count": 13,
   "metadata": {},
   "outputs": [
    {
     "data": {
      "text/plain": [
       "Index(['App', 'Category', 'Rating', 'Reviews', 'Size', 'Installs', 'Type',\n",
       "       'Proce', 'Content Rating', 'Genre', 'Last Updated', 'Current Version',\n",
       "       'Android Version'],\n",
       "      dtype='object')"
      ]
     },
     "execution_count": 13,
     "metadata": {},
     "output_type": "execute_result"
    }
   ],
   "source": [
    "data['Type']\n",
    "data.columns"
   ]
  },
  {
   "cell_type": "code",
   "execution_count": 15,
   "metadata": {},
   "outputs": [
    {
     "name": "stdout",
     "output_type": "stream",
     "text": [
      "App2\n",
      "Finance\n",
      "4.0\n",
      "4419\n",
      "56M\n",
      "5000,000+\n",
      "Paid\n",
      "0.0\n",
      "Everyone\n",
      "Productivity\n",
      "January 1, 2023\n",
      "4.5.2\n",
      "6.0 and up\n"
     ]
    }
   ],
   "source": [
    "for i in data.columns:\n",
    "    print(data[i][1])"
   ]
  },
  {
   "cell_type": "code",
   "execution_count": 18,
   "metadata": {},
   "outputs": [
    {
     "data": {
      "text/plain": [
       "Content Rating\n",
       "Everyone      37\n",
       "Mature 17+    34\n",
       "Teen          29\n",
       "Name: count, dtype: int64"
      ]
     },
     "execution_count": 18,
     "metadata": {},
     "output_type": "execute_result"
    }
   ],
   "source": [
    "\n",
    "data[\"Content Rating\"].value_counts()"
   ]
  },
  {
   "cell_type": "code",
   "execution_count": 20,
   "metadata": {},
   "outputs": [
    {
     "name": "stdout",
     "output_type": "stream",
     "text": [
      "Collecting matplotlib\n",
      "  Downloading matplotlib-3.10.1-cp313-cp313-win_amd64.whl.metadata (11 kB)\n",
      "Collecting contourpy>=1.0.1 (from matplotlib)\n",
      "  Downloading contourpy-1.3.1-cp313-cp313-win_amd64.whl.metadata (5.4 kB)\n",
      "Collecting cycler>=0.10 (from matplotlib)\n",
      "  Downloading cycler-0.12.1-py3-none-any.whl.metadata (3.8 kB)\n",
      "Collecting fonttools>=4.22.0 (from matplotlib)\n",
      "  Downloading fonttools-4.56.0-cp313-cp313-win_amd64.whl.metadata (103 kB)\n",
      "Collecting kiwisolver>=1.3.1 (from matplotlib)\n",
      "  Downloading kiwisolver-1.4.8-cp313-cp313-win_amd64.whl.metadata (6.3 kB)\n",
      "Requirement already satisfied: numpy>=1.23 in c:\\users\\shubh\\appdata\\local\\programs\\python\\python313\\lib\\site-packages (from matplotlib) (2.2.3)\n",
      "Requirement already satisfied: packaging>=20.0 in c:\\users\\shubh\\appdata\\roaming\\python\\python313\\site-packages (from matplotlib) (24.2)\n",
      "Collecting pillow>=8 (from matplotlib)\n",
      "  Downloading pillow-11.1.0-cp313-cp313-win_amd64.whl.metadata (9.3 kB)\n",
      "Collecting pyparsing>=2.3.1 (from matplotlib)\n",
      "  Downloading pyparsing-3.2.1-py3-none-any.whl.metadata (5.0 kB)\n",
      "Requirement already satisfied: python-dateutil>=2.7 in c:\\users\\shubh\\appdata\\roaming\\python\\python313\\site-packages (from matplotlib) (2.9.0.post0)\n",
      "Requirement already satisfied: six>=1.5 in c:\\users\\shubh\\appdata\\roaming\\python\\python313\\site-packages (from python-dateutil>=2.7->matplotlib) (1.17.0)\n",
      "Downloading matplotlib-3.10.1-cp313-cp313-win_amd64.whl (8.1 MB)\n",
      "   ---------------------------------------- 0.0/8.1 MB ? eta -:--:--\n",
      "   --------------------------- ------------ 5.5/8.1 MB 29.9 MB/s eta 0:00:01\n",
      "   ---------------------------------------- 8.1/8.1 MB 30.7 MB/s eta 0:00:00\n",
      "Downloading contourpy-1.3.1-cp313-cp313-win_amd64.whl (220 kB)\n",
      "Downloading cycler-0.12.1-py3-none-any.whl (8.3 kB)\n",
      "Downloading fonttools-4.56.0-cp313-cp313-win_amd64.whl (2.2 MB)\n",
      "   ---------------------------------------- 0.0/2.2 MB ? eta -:--:--\n",
      "   ---------------------------------------- 2.2/2.2 MB 37.3 MB/s eta 0:00:00\n",
      "Downloading kiwisolver-1.4.8-cp313-cp313-win_amd64.whl (71 kB)\n",
      "Downloading pillow-11.1.0-cp313-cp313-win_amd64.whl (2.6 MB)\n",
      "   ---------------------------------------- 0.0/2.6 MB ? eta -:--:--\n",
      "   ---------------------------------------- 2.6/2.6 MB 47.0 MB/s eta 0:00:00\n",
      "Downloading pyparsing-3.2.1-py3-none-any.whl (107 kB)\n",
      "Installing collected packages: pyparsing, pillow, kiwisolver, fonttools, cycler, contourpy, matplotlib\n",
      "Successfully installed contourpy-1.3.1 cycler-0.12.1 fonttools-4.56.0 kiwisolver-1.4.8 matplotlib-3.10.1 pillow-11.1.0 pyparsing-3.2.1\n"
     ]
    }
   ],
   "source": [
    "!pip install matplotlib"
   ]
  },
  {
   "cell_type": "code",
   "execution_count": 21,
   "metadata": {},
   "outputs": [
    {
     "name": "stderr",
     "output_type": "stream",
     "text": [
      "Matplotlib is building the font cache; this may take a moment.\n"
     ]
    }
   ],
   "source": [
    "from matplotlib import pyplot as plt"
   ]
  },
  {
   "cell_type": "code",
   "execution_count": 23,
   "metadata": {},
   "outputs": [
    {
     "data": {
      "text/plain": [
       "<Axes: xlabel='Content Rating'>"
      ]
     },
     "execution_count": 23,
     "metadata": {},
     "output_type": "execute_result"
    },
    {
     "data": {
      "image/png": "[encoded data removed]",
      "text/plain": [
       "<Figure size 640x480 with 1 Axes>"
      ]
     },
     "metadata": {},
     "output_type": "display_data"
    }
   ],
   "source": [
    "data[\"Content Rating\"].value_counts().plot(kind = 'bar')"
   ]
  },
  {
   "cell_type": "code",
   "execution_count": 30,
   "metadata": {},
   "outputs": [
    {
     "data": {
      "text/plain": [
       "<Axes: >"
      ]
     },
     "execution_count": 30,
     "metadata": {},
     "output_type": "execute_result"
    },
    {
     "data": {
      "image/png": "[encoded data removed]",
      "text/plain": [
       "<Figure size 640x480 with 1 Axes>"
      ]
     },
     "metadata": {},
     "output_type": "display_data"
    }
   ],
   "source": [
    "data[\"Rating\"].value_counts(bins = 10).plot(kind = 'barh')"
   ]
  },
  {
   "cell_type": "code",
   "execution_count": 36,
   "metadata": {},
   "outputs": [
    {
     "data": {
      "text/plain": [
       "App                0\n",
       "Category           3\n",
       "Rating             7\n",
       "Reviews            5\n",
       "Size               5\n",
       "Installs           6\n",
       "Type               4\n",
       "Proce              6\n",
       "Content Rating     5\n",
       "Genre              1\n",
       "Last Updated       6\n",
       "Current Version    5\n",
       "Android Version    4\n",
       "dtype: int64"
      ]
     },
     "execution_count": 36,
     "metadata": {},
     "output_type": "execute_result"
    }
   ],
   "source": [
    "data.isnull().sum()\n"
   ]
  },
  {
   "cell_type": "code",
   "execution_count": 39,
   "metadata": {},
   "outputs": [],
   "source": [
    "data = data.dropna()"
   ]
  },
  {
   "cell_type": "code",
   "execution_count": 40,
   "metadata": {},
   "outputs": [
    {
     "data": {
      "text/plain": [
       "App                0\n",
       "Category           0\n",
       "Rating             0\n",
       "Reviews            0\n",
       "Size               0\n",
       "Installs           0\n",
       "Type               0\n",
       "Proce              0\n",
       "Content Rating     0\n",
       "Genre              0\n",
       "Last Updated       0\n",
       "Current Version    0\n",
       "Android Version    0\n",
       "dtype: int64"
      ]
     },
     "execution_count": 40,
     "metadata": {},
     "output_type": "execute_result"
    }
   ],
   "source": [
    "data.isnull().sum()"
   ]
  },
  {
   "cell_type": "code",
   "execution_count": 41,
   "metadata": {},
   "outputs": [
    {
     "data": {
      "text/html": [
       "<div>\n",
       "<style scoped>\n",
       "    .dataframe tbody tr th:only-of-type {\n",
       "        vertical-align: middle;\n",
       "    }\n",
       "\n",
       "    .dataframe tbody tr th {\n",
       "        vertical-align: top;\n",
       "    }\n",
       "\n",
       "    .dataframe thead th {\n",
       "        text-align: right;\n",
       "    }\n",
       "</style>\n",
       "<table border=\"1\" class=\"dataframe\">\n",
       "  <thead>\n",
       "    <tr style=\"text-align: right;\">\n",
       "      <th></th>\n",
       "      <th>App</th>\n",
       "      <th>Category</th>\n",
       "      <th>Rating</th>\n",
       "      <th>Reviews</th>\n",
       "      <th>Size</th>\n",
       "      <th>Installs</th>\n",
       "      <th>Type</th>\n",
       "      <th>Proce</th>\n",
       "      <th>Content Rating</th>\n",
       "      <th>Genre</th>\n",
       "      <th>Last Updated</th>\n",
       "      <th>Current Version</th>\n",
       "      <th>Android Version</th>\n",
       "    </tr>\n",
       "  </thead>\n",
       "  <tbody>\n",
       "    <tr>\n",
       "      <th>0</th>\n",
       "      <td>App1</td>\n",
       "      <td>Lifestyle</td>\n",
       "      <td>3.8</td>\n",
       "      <td>2168.0</td>\n",
       "      <td>64M</td>\n",
       "      <td>500,000+</td>\n",
       "      <td>Free</td>\n",
       "      <td>4.99</td>\n",
       "      <td>Mature 17+</td>\n",
       "      <td>Social</td>\n",
       "      <td>February 15, 2023</td>\n",
       "      <td>1.0.0</td>\n",
       "      <td>7.1 and up</td>\n",
       "    </tr>\n",
       "    <tr>\n",
       "      <th>1</th>\n",
       "      <td>App2</td>\n",
       "      <td>Entertainment</td>\n",
       "      <td>3.0</td>\n",
       "      <td>3804.0</td>\n",
       "      <td>90M</td>\n",
       "      <td>1000,000+</td>\n",
       "      <td>Paid</td>\n",
       "      <td>4.99</td>\n",
       "      <td>Teen</td>\n",
       "      <td>Health &amp; Fitness</td>\n",
       "      <td>January 1, 2023</td>\n",
       "      <td>4.5.2</td>\n",
       "      <td>4.1 and up</td>\n",
       "    </tr>\n",
       "    <tr>\n",
       "      <th>2</th>\n",
       "      <td>App3</td>\n",
       "      <td>Lifestyle</td>\n",
       "      <td>4.4</td>\n",
       "      <td>639.0</td>\n",
       "      <td>9M</td>\n",
       "      <td>1,000+</td>\n",
       "      <td>Free</td>\n",
       "      <td>0.00</td>\n",
       "      <td>Teen</td>\n",
       "      <td>Action</td>\n",
       "      <td>May 5, 2023</td>\n",
       "      <td>5.3.3</td>\n",
       "      <td>4.1 and up</td>\n",
       "    </tr>\n",
       "    <tr>\n",
       "      <th>3</th>\n",
       "      <td>App4</td>\n",
       "      <td>Social</td>\n",
       "      <td>4.9</td>\n",
       "      <td>3658.0</td>\n",
       "      <td>26M</td>\n",
       "      <td>5,000+</td>\n",
       "      <td>Free</td>\n",
       "      <td>2.99</td>\n",
       "      <td>Everyone</td>\n",
       "      <td>Action</td>\n",
       "      <td>January 1, 2023</td>\n",
       "      <td>7.0.0</td>\n",
       "      <td>5.0 and up</td>\n",
       "    </tr>\n",
       "    <tr>\n",
       "      <th>4</th>\n",
       "      <td>App5</td>\n",
       "      <td>Health</td>\n",
       "      <td>4.8</td>\n",
       "      <td>3721.0</td>\n",
       "      <td>57M</td>\n",
       "      <td>10,000+</td>\n",
       "      <td>Free</td>\n",
       "      <td>0.00</td>\n",
       "      <td>Teen</td>\n",
       "      <td>Tools</td>\n",
       "      <td>January 1, 2023</td>\n",
       "      <td>4.5.2</td>\n",
       "      <td>4.1 and up</td>\n",
       "    </tr>\n",
       "    <tr>\n",
       "      <th>...</th>\n",
       "      <td>...</td>\n",
       "      <td>...</td>\n",
       "      <td>...</td>\n",
       "      <td>...</td>\n",
       "      <td>...</td>\n",
       "      <td>...</td>\n",
       "      <td>...</td>\n",
       "      <td>...</td>\n",
       "      <td>...</td>\n",
       "      <td>...</td>\n",
       "      <td>...</td>\n",
       "      <td>...</td>\n",
       "      <td>...</td>\n",
       "    </tr>\n",
       "    <tr>\n",
       "      <th>95</th>\n",
       "      <td>App96</td>\n",
       "      <td>Social</td>\n",
       "      <td>3.4</td>\n",
       "      <td>1292.0</td>\n",
       "      <td>18M</td>\n",
       "      <td>1,000+</td>\n",
       "      <td>Paid</td>\n",
       "      <td>0.00</td>\n",
       "      <td>Mature 17+</td>\n",
       "      <td>Education</td>\n",
       "      <td>May 5, 2023</td>\n",
       "      <td>6.1.1</td>\n",
       "      <td>8.0 and up</td>\n",
       "    </tr>\n",
       "    <tr>\n",
       "      <th>96</th>\n",
       "      <td>App97</td>\n",
       "      <td>Game</td>\n",
       "      <td>3.7</td>\n",
       "      <td>252.0</td>\n",
       "      <td>76M</td>\n",
       "      <td>5,000+</td>\n",
       "      <td>Free</td>\n",
       "      <td>0.00</td>\n",
       "      <td>Teen</td>\n",
       "      <td>Lifestyle</td>\n",
       "      <td>April 20, 2023</td>\n",
       "      <td>3.0.1</td>\n",
       "      <td>7.1 and up</td>\n",
       "    </tr>\n",
       "    <tr>\n",
       "      <th>97</th>\n",
       "      <td>App98</td>\n",
       "      <td>Social</td>\n",
       "      <td>3.3</td>\n",
       "      <td>2095.0</td>\n",
       "      <td>24M</td>\n",
       "      <td>1000,000+</td>\n",
       "      <td>Free</td>\n",
       "      <td>0.00</td>\n",
       "      <td>Everyone</td>\n",
       "      <td>Productivity</td>\n",
       "      <td>January 1, 2023</td>\n",
       "      <td>3.0.1</td>\n",
       "      <td>4.1 and up</td>\n",
       "    </tr>\n",
       "    <tr>\n",
       "      <th>98</th>\n",
       "      <td>App99</td>\n",
       "      <td>Social</td>\n",
       "      <td>4.3</td>\n",
       "      <td>2925.0</td>\n",
       "      <td>84M</td>\n",
       "      <td>5000,000+</td>\n",
       "      <td>Paid</td>\n",
       "      <td>1.99</td>\n",
       "      <td>Everyone</td>\n",
       "      <td>Action</td>\n",
       "      <td>May 5, 2023</td>\n",
       "      <td>5.3.3</td>\n",
       "      <td>6.0 and up</td>\n",
       "    </tr>\n",
       "    <tr>\n",
       "      <th>99</th>\n",
       "      <td>App100</td>\n",
       "      <td>Finance</td>\n",
       "      <td>4.3</td>\n",
       "      <td>1413.0</td>\n",
       "      <td>64M</td>\n",
       "      <td>100,000+</td>\n",
       "      <td>Free</td>\n",
       "      <td>0.00</td>\n",
       "      <td>Teen</td>\n",
       "      <td>Education</td>\n",
       "      <td>March 10, 2023</td>\n",
       "      <td>7.0.0</td>\n",
       "      <td>7.1 and up</td>\n",
       "    </tr>\n",
       "  </tbody>\n",
       "</table>\n",
       "<p>100 rows × 13 columns</p>\n",
       "</div>"
      ],
      "text/plain": [
       "       App       Category  Rating  Reviews Size   Installs  Type  Proce  \\\n",
       "0     App1      Lifestyle     3.8   2168.0  64M   500,000+  Free   4.99   \n",
       "1     App2  Entertainment     3.0   3804.0  90M  1000,000+  Paid   4.99   \n",
       "2     App3      Lifestyle     4.4    639.0   9M     1,000+  Free   0.00   \n",
       "3     App4         Social     4.9   3658.0  26M     5,000+  Free   2.99   \n",
       "4     App5         Health     4.8   3721.0  57M    10,000+  Free   0.00   \n",
       "..     ...            ...     ...      ...  ...        ...   ...    ...   \n",
       "95   App96         Social     3.4   1292.0  18M     1,000+  Paid   0.00   \n",
       "96   App97           Game     3.7    252.0  76M     5,000+  Free   0.00   \n",
       "97   App98         Social     3.3   2095.0  24M  1000,000+  Free   0.00   \n",
       "98   App99         Social     4.3   2925.0  84M  5000,000+  Paid   1.99   \n",
       "99  App100        Finance     4.3   1413.0  64M   100,000+  Free   0.00   \n",
       "\n",
       "   Content Rating             Genre       Last Updated Current Version  \\\n",
       "0      Mature 17+            Social  February 15, 2023           1.0.0   \n",
       "1            Teen  Health & Fitness    January 1, 2023           4.5.2   \n",
       "2            Teen            Action        May 5, 2023           5.3.3   \n",
       "3        Everyone            Action    January 1, 2023           7.0.0   \n",
       "4            Teen             Tools    January 1, 2023           4.5.2   \n",
       "..            ...               ...                ...             ...   \n",
       "95     Mature 17+         Education        May 5, 2023           6.1.1   \n",
       "96           Teen         Lifestyle     April 20, 2023           3.0.1   \n",
       "97       Everyone      Productivity    January 1, 2023           3.0.1   \n",
       "98       Everyone            Action        May 5, 2023           5.3.3   \n",
       "99           Teen         Education     March 10, 2023           7.0.0   \n",
       "\n",
       "   Android Version  \n",
       "0       7.1 and up  \n",
       "1       4.1 and up  \n",
       "2       4.1 and up  \n",
       "3       5.0 and up  \n",
       "4       4.1 and up  \n",
       "..             ...  \n",
       "95      8.0 and up  \n",
       "96      7.1 and up  \n",
       "97      4.1 and up  \n",
       "98      6.0 and up  \n",
       "99      7.1 and up  \n",
       "\n",
       "[100 rows x 13 columns]"
      ]
     },
     "execution_count": 41,
     "metadata": {},
     "output_type": "execute_result"
    }
   ],
   "source": [
    "data"
   ]
  },
  {
   "cell_type": "code",
   "execution_count": 51,
   "metadata": {},
   "outputs": [
    {
     "name": "stdout",
     "output_type": "stream",
     "text": [
      "Avg rating is :  4.0\n"
     ]
    }
   ],
   "source": [
    "## Avg rating\n",
    "\n",
    "print('Avg rating is : ', float(str(sum(data['Rating'])/len(data['Rating']))[:3]))"
   ]
  },
  {
   "cell_type": "code",
   "execution_count": 56,
   "metadata": {},
   "outputs": [
    {
     "name": "stdout",
     "output_type": "stream",
     "text": [
      "Number of apps with 5.0 rating are : 4\n"
     ]
    }
   ],
   "source": [
    "## Apps with rating 5\n",
    "count = 0;\n",
    "for rating in data['Rating']:\n",
    "    if rating == 5.0:\n",
    "        count += 1;\n",
    "print('Number of apps with 5.0 rating are :', count)"
   ]
  },
  {
   "cell_type": "code",
   "execution_count": 60,
   "metadata": {},
   "outputs": [
    {
     "data": {
      "text/plain": [
       "Genre\n",
       "Social              18\n",
       "Education           18\n",
       "Productivity        13\n",
       "Tools               10\n",
       "Health & Fitness    10\n",
       "Entertainment        9\n",
       "Lifestyle            8\n",
       "Action               7\n",
       "Finance              7\n",
       "Name: count, dtype: int64"
      ]
     },
     "execution_count": 60,
     "metadata": {},
     "output_type": "execute_result"
    }
   ],
   "source": [
    "data['Genre'].value_counts()"
   ]
  },
  {
   "cell_type": "code",
   "execution_count": 65,
   "metadata": {},
   "outputs": [
    {
     "data": {
      "text/plain": [
       "'Paid'"
      ]
     },
     "execution_count": 65,
     "metadata": {},
     "output_type": "execute_result"
    }
   ],
   "source": [
    "data['Type'].mode()[0]"
   ]
  },
  {
   "cell_type": "code",
   "execution_count": 68,
   "metadata": {},
   "outputs": [
    {
     "data": {
      "text/plain": [
       "App                0\n",
       "Category           3\n",
       "Rating             7\n",
       "Reviews            5\n",
       "Size               5\n",
       "Installs           6\n",
       "Type               4\n",
       "Proce              6\n",
       "Content Rating     5\n",
       "Genre              1\n",
       "Last Updated       6\n",
       "Current Version    5\n",
       "Android Version    4\n",
       "dtype: int64"
      ]
     },
     "execution_count": 68,
     "metadata": {},
     "output_type": "execute_result"
    }
   ],
   "source": [
    "data.isnull().sum()"
   ]
  },
  {
   "cell_type": "code",
   "execution_count": 111,
   "metadata": {},
   "outputs": [
    {
     "data": {
      "text/plain": [
       "App                0\n",
       "Category           3\n",
       "Rating             0\n",
       "Reviews            5\n",
       "Size               5\n",
       "Installs           6\n",
       "Type               4\n",
       "Proce              6\n",
       "Content Rating     5\n",
       "Genre              1\n",
       "Last Updated       6\n",
       "Current Version    5\n",
       "Android Version    4\n",
       "dtype: int64"
      ]
     },
     "execution_count": 111,
     "metadata": {},
     "output_type": "execute_result"
    }
   ],
   "source": [
    "data['Rating'] = data['Rating'].fillna(data['Rating'].mean())\n",
    "data.isnull().sum()"
   ]
  },
  {
   "cell_type": "code",
   "execution_count": 112,
   "metadata": {},
   "outputs": [
    {
     "data": {
      "text/plain": [
       "0      3.800000\n",
       "1      3.000000\n",
       "2      4.400000\n",
       "3      4.900000\n",
       "4      4.800000\n",
       "         ...   \n",
       "105    4.054369\n",
       "106    4.054369\n",
       "107    4.054369\n",
       "108    3.200000\n",
       "109    4.054369\n",
       "Name: Rating, Length: 110, dtype: float64"
      ]
     },
     "execution_count": 112,
     "metadata": {},
     "output_type": "execute_result"
    }
   ],
   "source": [
    "data['Rating']"
   ]
  },
  {
   "cell_type": "code",
   "execution_count": 116,
   "metadata": {},
   "outputs": [
    {
     "name": "stdout",
     "output_type": "stream",
     "text": [
      "0      3.8\n",
      "1      3.0\n",
      "2      4.4\n",
      "3      4.9\n",
      "4      4.8\n",
      "      ... \n",
      "105    NaN\n",
      "106    NaN\n",
      "107    NaN\n",
      "108    3.2\n",
      "109    NaN\n",
      "Name: Rating, Length: 110, dtype: float64\n",
      "0      3.8\n",
      "1      3.0\n",
      "2      4.4\n",
      "3      4.9\n",
      "4      4.8\n",
      "      ... \n",
      "105    NaN\n",
      "106    NaN\n",
      "107    NaN\n",
      "108    3.2\n",
      "109    NaN\n",
      "Name: Rating, Length: 110, dtype: float64\n",
      "0      3.8\n",
      "1      3.0\n",
      "2      4.4\n",
      "3      4.9\n",
      "4      4.8\n",
      "      ... \n",
      "105    NaN\n",
      "106    NaN\n",
      "107    NaN\n",
      "108    3.2\n",
      "109    NaN\n",
      "Name: Rating, Length: 110, dtype: float64\n",
      "0      3.8\n",
      "1      3.0\n",
      "2      4.4\n",
      "3      4.9\n",
      "4      4.8\n",
      "      ... \n",
      "105    NaN\n",
      "106    NaN\n",
      "107    NaN\n",
      "108    3.2\n",
      "109    NaN\n",
      "Name: Rating, Length: 110, dtype: float64\n",
      "0      3.8\n",
      "1      3.0\n",
      "2      4.4\n",
      "3      4.9\n",
      "4      4.8\n",
      "      ... \n",
      "105    NaN\n",
      "106    NaN\n",
      "107    NaN\n",
      "108    3.2\n",
      "109    NaN\n",
      "Name: Rating, Length: 110, dtype: float64\n",
      "0      3.8\n",
      "1      3.0\n",
      "2      4.4\n",
      "3      4.9\n",
      "4      4.8\n",
      "      ... \n",
      "105    NaN\n",
      "106    NaN\n",
      "107    NaN\n",
      "108    3.2\n",
      "109    NaN\n",
      "Name: Rating, Length: 110, dtype: float64\n",
      "0      3.8\n",
      "1      3.0\n",
      "2      4.4\n",
      "3      4.9\n",
      "4      4.8\n",
      "      ... \n",
      "105    NaN\n",
      "106    NaN\n",
      "107    NaN\n",
      "108    3.2\n",
      "109    NaN\n",
      "Name: Rating, Length: 110, dtype: float64\n",
      "0      3.8\n",
      "1      3.0\n",
      "2      4.4\n",
      "3      4.9\n",
      "4      4.8\n",
      "      ... \n",
      "105    NaN\n",
      "106    NaN\n",
      "107    NaN\n",
      "108    3.2\n",
      "109    NaN\n",
      "Name: Rating, Length: 110, dtype: float64\n",
      "0      3.8\n",
      "1      3.0\n",
      "2      4.4\n",
      "3      4.9\n",
      "4      4.8\n",
      "      ... \n",
      "105    NaN\n",
      "106    NaN\n",
      "107    NaN\n",
      "108    3.2\n",
      "109    NaN\n",
      "Name: Rating, Length: 110, dtype: float64\n",
      "0      3.8\n",
      "1      3.0\n",
      "2      4.4\n",
      "3      4.9\n",
      "4      4.8\n",
      "      ... \n",
      "105    NaN\n",
      "106    NaN\n",
      "107    NaN\n",
      "108    3.2\n",
      "109    NaN\n",
      "Name: Rating, Length: 110, dtype: float64\n",
      "0      3.8\n",
      "1      3.0\n",
      "2      4.4\n",
      "3      4.9\n",
      "4      4.8\n",
      "      ... \n",
      "105    NaN\n",
      "106    NaN\n",
      "107    NaN\n",
      "108    3.2\n",
      "109    NaN\n",
      "Name: Rating, Length: 110, dtype: float64\n",
      "0      3.8\n",
      "1      3.0\n",
      "2      4.4\n",
      "3      4.9\n",
      "4      4.8\n",
      "      ... \n",
      "105    NaN\n",
      "106    NaN\n",
      "107    NaN\n",
      "108    3.2\n",
      "109    NaN\n",
      "Name: Rating, Length: 110, dtype: float64\n",
      "0      3.8\n",
      "1      3.0\n",
      "2      4.4\n",
      "3      4.9\n",
      "4      4.8\n",
      "      ... \n",
      "105    NaN\n",
      "106    NaN\n",
      "107    NaN\n",
      "108    3.2\n",
      "109    NaN\n",
      "Name: Rating, Length: 110, dtype: float64\n",
      "0      3.8\n",
      "1      3.0\n",
      "2      4.4\n",
      "3      4.9\n",
      "4      4.8\n",
      "      ... \n",
      "105    NaN\n",
      "106    NaN\n",
      "107    NaN\n",
      "108    3.2\n",
      "109    NaN\n",
      "Name: Rating, Length: 110, dtype: float64\n",
      "0      3.8\n",
      "1      3.0\n",
      "2      4.4\n",
      "3      4.9\n",
      "4      4.8\n",
      "      ... \n",
      "105    NaN\n",
      "106    NaN\n",
      "107    NaN\n",
      "108    3.2\n",
      "109    NaN\n",
      "Name: Rating, Length: 110, dtype: float64\n",
      "0      3.8\n",
      "1      3.0\n",
      "2      4.4\n",
      "3      4.9\n",
      "4      4.8\n",
      "      ... \n",
      "105    NaN\n",
      "106    NaN\n",
      "107    NaN\n",
      "108    3.2\n",
      "109    NaN\n",
      "Name: Rating, Length: 110, dtype: float64\n",
      "0      3.8\n",
      "1      3.0\n",
      "2      4.4\n",
      "3      4.9\n",
      "4      4.8\n",
      "      ... \n",
      "105    NaN\n",
      "106    NaN\n",
      "107    NaN\n",
      "108    3.2\n",
      "109    NaN\n",
      "Name: Rating, Length: 110, dtype: float64\n",
      "0      3.8\n",
      "1      3.0\n",
      "2      4.4\n",
      "3      4.9\n",
      "4      4.8\n",
      "      ... \n",
      "105    NaN\n",
      "106    NaN\n",
      "107    NaN\n",
      "108    3.2\n",
      "109    NaN\n",
      "Name: Rating, Length: 110, dtype: float64\n",
      "0      3.8\n",
      "1      3.0\n",
      "2      4.4\n",
      "3      4.9\n",
      "4      4.8\n",
      "      ... \n",
      "105    NaN\n",
      "106    NaN\n",
      "107    NaN\n",
      "108    3.2\n",
      "109    NaN\n",
      "Name: Rating, Length: 110, dtype: float64\n",
      "0      3.8\n",
      "1      3.0\n",
      "2      4.4\n",
      "3      4.9\n",
      "4      4.8\n",
      "      ... \n",
      "105    NaN\n",
      "106    NaN\n",
      "107    NaN\n",
      "108    3.2\n",
      "109    NaN\n",
      "Name: Rating, Length: 110, dtype: float64\n",
      "0      3.8\n",
      "1      3.0\n",
      "2      4.4\n",
      "3      4.9\n",
      "4      4.8\n",
      "      ... \n",
      "105    NaN\n",
      "106    NaN\n",
      "107    NaN\n",
      "108    3.2\n",
      "109    NaN\n",
      "Name: Rating, Length: 110, dtype: float64\n",
      "0      3.8\n",
      "1      3.0\n",
      "2      4.4\n",
      "3      4.9\n",
      "4      4.8\n",
      "      ... \n",
      "105    NaN\n",
      "106    NaN\n",
      "107    NaN\n",
      "108    3.2\n",
      "109    NaN\n",
      "Name: Rating, Length: 110, dtype: float64\n",
      "0      3.8\n",
      "1      3.0\n",
      "2      4.4\n",
      "3      4.9\n",
      "4      4.8\n",
      "      ... \n",
      "105    NaN\n",
      "106    NaN\n",
      "107    NaN\n",
      "108    3.2\n",
      "109    NaN\n",
      "Name: Rating, Length: 110, dtype: float64\n",
      "0      3.8\n",
      "1      3.0\n",
      "2      4.4\n",
      "3      4.9\n",
      "4      4.8\n",
      "      ... \n",
      "105    NaN\n",
      "106    NaN\n",
      "107    NaN\n",
      "108    3.2\n",
      "109    NaN\n",
      "Name: Rating, Length: 110, dtype: float64\n",
      "0      3.8\n",
      "1      3.0\n",
      "2      4.4\n",
      "3      4.9\n",
      "4      4.8\n",
      "      ... \n",
      "105    NaN\n",
      "106    NaN\n",
      "107    NaN\n",
      "108    3.2\n",
      "109    NaN\n",
      "Name: Rating, Length: 110, dtype: float64\n",
      "0      3.8\n",
      "1      3.0\n",
      "2      4.4\n",
      "3      4.9\n",
      "4      4.8\n",
      "      ... \n",
      "105    NaN\n",
      "106    NaN\n",
      "107    NaN\n",
      "108    3.2\n",
      "109    NaN\n",
      "Name: Rating, Length: 110, dtype: float64\n",
      "0      3.8\n",
      "1      3.0\n",
      "2      4.4\n",
      "3      4.9\n",
      "4      4.8\n",
      "      ... \n",
      "105    NaN\n",
      "106    NaN\n",
      "107    NaN\n",
      "108    3.2\n",
      "109    NaN\n",
      "Name: Rating, Length: 110, dtype: float64\n",
      "0      3.8\n",
      "1      3.0\n",
      "2      4.4\n",
      "3      4.9\n",
      "4      4.8\n",
      "      ... \n",
      "105    NaN\n",
      "106    NaN\n",
      "107    NaN\n",
      "108    3.2\n",
      "109    NaN\n",
      "Name: Rating, Length: 110, dtype: float64\n",
      "0      3.8\n",
      "1      3.0\n",
      "2      4.4\n",
      "3      4.9\n",
      "4      4.8\n",
      "      ... \n",
      "105    NaN\n",
      "106    NaN\n",
      "107    NaN\n",
      "108    3.2\n",
      "109    NaN\n",
      "Name: Rating, Length: 110, dtype: float64\n",
      "0      3.8\n",
      "1      3.0\n",
      "2      4.4\n",
      "3      4.9\n",
      "4      4.8\n",
      "      ... \n",
      "105    NaN\n",
      "106    NaN\n",
      "107    NaN\n",
      "108    3.2\n",
      "109    NaN\n",
      "Name: Rating, Length: 110, dtype: float64\n",
      "0      3.8\n",
      "1      3.0\n",
      "2      4.4\n",
      "3      4.9\n",
      "4      4.8\n",
      "      ... \n",
      "105    NaN\n",
      "106    NaN\n",
      "107    NaN\n",
      "108    3.2\n",
      "109    NaN\n",
      "Name: Rating, Length: 110, dtype: float64\n",
      "0      3.8\n",
      "1      3.0\n",
      "2      4.4\n",
      "3      4.9\n",
      "4      4.8\n",
      "      ... \n",
      "105    NaN\n",
      "106    NaN\n",
      "107    NaN\n",
      "108    3.2\n",
      "109    NaN\n",
      "Name: Rating, Length: 110, dtype: float64\n",
      "0      3.8\n",
      "1      3.0\n",
      "2      4.4\n",
      "3      4.9\n",
      "4      4.8\n",
      "      ... \n",
      "105    NaN\n",
      "106    NaN\n",
      "107    NaN\n",
      "108    3.2\n",
      "109    NaN\n",
      "Name: Rating, Length: 110, dtype: float64\n",
      "0      3.8\n",
      "1      3.0\n",
      "2      4.4\n",
      "3      4.9\n",
      "4      4.8\n",
      "      ... \n",
      "105    NaN\n",
      "106    NaN\n",
      "107    NaN\n",
      "108    3.2\n",
      "109    NaN\n",
      "Name: Rating, Length: 110, dtype: float64\n",
      "0      3.8\n",
      "1      3.0\n",
      "2      4.4\n",
      "3      4.9\n",
      "4      4.8\n",
      "      ... \n",
      "105    NaN\n",
      "106    NaN\n",
      "107    NaN\n",
      "108    3.2\n",
      "109    NaN\n",
      "Name: Rating, Length: 110, dtype: float64\n",
      "0      3.8\n",
      "1      3.0\n",
      "2      4.4\n",
      "3      4.9\n",
      "4      4.8\n",
      "      ... \n",
      "105    NaN\n",
      "106    NaN\n",
      "107    NaN\n",
      "108    3.2\n",
      "109    NaN\n",
      "Name: Rating, Length: 110, dtype: float64\n",
      "0      3.8\n",
      "1      3.0\n",
      "2      4.4\n",
      "3      4.9\n",
      "4      4.8\n",
      "      ... \n",
      "105    NaN\n",
      "106    NaN\n",
      "107    NaN\n",
      "108    3.2\n",
      "109    NaN\n",
      "Name: Rating, Length: 110, dtype: float64\n",
      "0      3.8\n",
      "1      3.0\n",
      "2      4.4\n",
      "3      4.9\n",
      "4      4.8\n",
      "      ... \n",
      "105    NaN\n",
      "106    NaN\n",
      "107    NaN\n",
      "108    3.2\n",
      "109    NaN\n",
      "Name: Rating, Length: 110, dtype: float64\n",
      "0      3.8\n",
      "1      3.0\n",
      "2      4.4\n",
      "3      4.9\n",
      "4      4.8\n",
      "      ... \n",
      "105    NaN\n",
      "106    NaN\n",
      "107    NaN\n",
      "108    3.2\n",
      "109    NaN\n",
      "Name: Rating, Length: 110, dtype: float64\n",
      "0      3.8\n",
      "1      3.0\n",
      "2      4.4\n",
      "3      4.9\n",
      "4      4.8\n",
      "      ... \n",
      "105    NaN\n",
      "106    NaN\n",
      "107    NaN\n",
      "108    3.2\n",
      "109    NaN\n",
      "Name: Rating, Length: 110, dtype: float64\n",
      "0      3.8\n",
      "1      3.0\n",
      "2      4.4\n",
      "3      4.9\n",
      "4      4.8\n",
      "      ... \n",
      "105    NaN\n",
      "106    NaN\n",
      "107    NaN\n",
      "108    3.2\n",
      "109    NaN\n",
      "Name: Rating, Length: 110, dtype: float64\n",
      "0      3.8\n",
      "1      3.0\n",
      "2      4.4\n",
      "3      4.9\n",
      "4      4.8\n",
      "      ... \n",
      "105    NaN\n",
      "106    NaN\n",
      "107    NaN\n",
      "108    3.2\n",
      "109    NaN\n",
      "Name: Rating, Length: 110, dtype: float64\n",
      "0      3.8\n",
      "1      3.0\n",
      "2      4.4\n",
      "3      4.9\n",
      "4      4.8\n",
      "      ... \n",
      "105    NaN\n",
      "106    NaN\n",
      "107    NaN\n",
      "108    3.2\n",
      "109    NaN\n",
      "Name: Rating, Length: 110, dtype: float64\n",
      "0      3.8\n",
      "1      3.0\n",
      "2      4.4\n",
      "3      4.9\n",
      "4      4.8\n",
      "      ... \n",
      "105    NaN\n",
      "106    NaN\n",
      "107    NaN\n",
      "108    3.2\n",
      "109    NaN\n",
      "Name: Rating, Length: 110, dtype: float64\n",
      "0      3.8\n",
      "1      3.0\n",
      "2      4.4\n",
      "3      4.9\n",
      "4      4.8\n",
      "      ... \n",
      "105    NaN\n",
      "106    NaN\n",
      "107    NaN\n",
      "108    3.2\n",
      "109    NaN\n",
      "Name: Rating, Length: 110, dtype: float64\n",
      "0      3.8\n",
      "1      3.0\n",
      "2      4.4\n",
      "3      4.9\n",
      "4      4.8\n",
      "      ... \n",
      "105    NaN\n",
      "106    NaN\n",
      "107    NaN\n",
      "108    3.2\n",
      "109    NaN\n",
      "Name: Rating, Length: 110, dtype: float64\n",
      "0      3.8\n",
      "1      3.0\n",
      "2      4.4\n",
      "3      4.9\n",
      "4      4.8\n",
      "      ... \n",
      "105    NaN\n",
      "106    NaN\n",
      "107    NaN\n",
      "108    3.2\n",
      "109    NaN\n",
      "Name: Rating, Length: 110, dtype: float64\n",
      "0      3.8\n",
      "1      3.0\n",
      "2      4.4\n",
      "3      4.9\n",
      "4      4.8\n",
      "      ... \n",
      "105    NaN\n",
      "106    NaN\n",
      "107    NaN\n",
      "108    3.2\n",
      "109    NaN\n",
      "Name: Rating, Length: 110, dtype: float64\n",
      "0      3.8\n",
      "1      3.0\n",
      "2      4.4\n",
      "3      4.9\n",
      "4      4.8\n",
      "      ... \n",
      "105    NaN\n",
      "106    NaN\n",
      "107    NaN\n",
      "108    3.2\n",
      "109    NaN\n",
      "Name: Rating, Length: 110, dtype: float64\n",
      "0      3.8\n",
      "1      3.0\n",
      "2      4.4\n",
      "3      4.9\n",
      "4      4.8\n",
      "      ... \n",
      "105    NaN\n",
      "106    NaN\n",
      "107    NaN\n",
      "108    3.2\n",
      "109    NaN\n",
      "Name: Rating, Length: 110, dtype: float64\n",
      "0      3.8\n",
      "1      3.0\n",
      "2      4.4\n",
      "3      4.9\n",
      "4      4.8\n",
      "      ... \n",
      "105    NaN\n",
      "106    NaN\n",
      "107    NaN\n",
      "108    3.2\n",
      "109    NaN\n",
      "Name: Rating, Length: 110, dtype: float64\n",
      "0      3.8\n",
      "1      3.0\n",
      "2      4.4\n",
      "3      4.9\n",
      "4      4.8\n",
      "      ... \n",
      "105    NaN\n",
      "106    NaN\n",
      "107    NaN\n",
      "108    3.2\n",
      "109    NaN\n",
      "Name: Rating, Length: 110, dtype: float64\n",
      "0      3.8\n",
      "1      3.0\n",
      "2      4.4\n",
      "3      4.9\n",
      "4      4.8\n",
      "      ... \n",
      "105    NaN\n",
      "106    NaN\n",
      "107    NaN\n",
      "108    3.2\n",
      "109    NaN\n",
      "Name: Rating, Length: 110, dtype: float64\n",
      "0      3.8\n",
      "1      3.0\n",
      "2      4.4\n",
      "3      4.9\n",
      "4      4.8\n",
      "      ... \n",
      "105    NaN\n",
      "106    NaN\n",
      "107    NaN\n",
      "108    3.2\n",
      "109    NaN\n",
      "Name: Rating, Length: 110, dtype: float64\n",
      "0      3.8\n",
      "1      3.0\n",
      "2      4.4\n",
      "3      4.9\n",
      "4      4.8\n",
      "      ... \n",
      "105    NaN\n",
      "106    NaN\n",
      "107    NaN\n",
      "108    3.2\n",
      "109    NaN\n",
      "Name: Rating, Length: 110, dtype: float64\n",
      "0      3.8\n",
      "1      3.0\n",
      "2      4.4\n",
      "3      4.9\n",
      "4      4.8\n",
      "      ... \n",
      "105    NaN\n",
      "106    NaN\n",
      "107    NaN\n",
      "108    3.2\n",
      "109    NaN\n",
      "Name: Rating, Length: 110, dtype: float64\n",
      "0      3.8\n",
      "1      3.0\n",
      "2      4.4\n",
      "3      4.9\n",
      "4      4.8\n",
      "      ... \n",
      "105    NaN\n",
      "106    NaN\n",
      "107    NaN\n",
      "108    3.2\n",
      "109    NaN\n",
      "Name: Rating, Length: 110, dtype: float64\n",
      "0      3.8\n",
      "1      3.0\n",
      "2      4.4\n",
      "3      4.9\n",
      "4      4.8\n",
      "      ... \n",
      "105    NaN\n",
      "106    NaN\n",
      "107    NaN\n",
      "108    3.2\n",
      "109    NaN\n",
      "Name: Rating, Length: 110, dtype: float64\n",
      "0      3.8\n",
      "1      3.0\n",
      "2      4.4\n",
      "3      4.9\n",
      "4      4.8\n",
      "      ... \n",
      "105    NaN\n",
      "106    NaN\n",
      "107    NaN\n",
      "108    3.2\n",
      "109    NaN\n",
      "Name: Rating, Length: 110, dtype: float64\n",
      "0      3.8\n",
      "1      3.0\n",
      "2      4.4\n",
      "3      4.9\n",
      "4      4.8\n",
      "      ... \n",
      "105    NaN\n",
      "106    NaN\n",
      "107    NaN\n",
      "108    3.2\n",
      "109    NaN\n",
      "Name: Rating, Length: 110, dtype: float64\n",
      "0      3.8\n",
      "1      3.0\n",
      "2      4.4\n",
      "3      4.9\n",
      "4      4.8\n",
      "      ... \n",
      "105    NaN\n",
      "106    NaN\n",
      "107    NaN\n",
      "108    3.2\n",
      "109    NaN\n",
      "Name: Rating, Length: 110, dtype: float64\n",
      "0      3.8\n",
      "1      3.0\n",
      "2      4.4\n",
      "3      4.9\n",
      "4      4.8\n",
      "      ... \n",
      "105    NaN\n",
      "106    NaN\n",
      "107    NaN\n",
      "108    3.2\n",
      "109    NaN\n",
      "Name: Rating, Length: 110, dtype: float64\n",
      "0      3.8\n",
      "1      3.0\n",
      "2      4.4\n",
      "3      4.9\n",
      "4      4.8\n",
      "      ... \n",
      "105    NaN\n",
      "106    NaN\n",
      "107    NaN\n",
      "108    3.2\n",
      "109    NaN\n",
      "Name: Rating, Length: 110, dtype: float64\n",
      "0      3.8\n",
      "1      3.0\n",
      "2      4.4\n",
      "3      4.9\n",
      "4      4.8\n",
      "      ... \n",
      "105    NaN\n",
      "106    NaN\n",
      "107    NaN\n",
      "108    3.2\n",
      "109    NaN\n",
      "Name: Rating, Length: 110, dtype: float64\n",
      "0      3.8\n",
      "1      3.0\n",
      "2      4.4\n",
      "3      4.9\n",
      "4      4.8\n",
      "      ... \n",
      "105    NaN\n",
      "106    NaN\n",
      "107    NaN\n",
      "108    3.2\n",
      "109    NaN\n",
      "Name: Rating, Length: 110, dtype: float64\n",
      "0      3.8\n",
      "1      3.0\n",
      "2      4.4\n",
      "3      4.9\n",
      "4      4.8\n",
      "      ... \n",
      "105    NaN\n",
      "106    NaN\n",
      "107    NaN\n",
      "108    3.2\n",
      "109    NaN\n",
      "Name: Rating, Length: 110, dtype: float64\n",
      "0      3.8\n",
      "1      3.0\n",
      "2      4.4\n",
      "3      4.9\n",
      "4      4.8\n",
      "      ... \n",
      "105    NaN\n",
      "106    NaN\n",
      "107    NaN\n",
      "108    3.2\n",
      "109    NaN\n",
      "Name: Rating, Length: 110, dtype: float64\n",
      "0      3.8\n",
      "1      3.0\n",
      "2      4.4\n",
      "3      4.9\n",
      "4      4.8\n",
      "      ... \n",
      "105    NaN\n",
      "106    NaN\n",
      "107    NaN\n",
      "108    3.2\n",
      "109    NaN\n",
      "Name: Rating, Length: 110, dtype: float64\n",
      "0      3.8\n",
      "1      3.0\n",
      "2      4.4\n",
      "3      4.9\n",
      "4      4.8\n",
      "      ... \n",
      "105    NaN\n",
      "106    NaN\n",
      "107    NaN\n",
      "108    3.2\n",
      "109    NaN\n",
      "Name: Rating, Length: 110, dtype: float64\n",
      "0      3.8\n",
      "1      3.0\n",
      "2      4.4\n",
      "3      4.9\n",
      "4      4.8\n",
      "      ... \n",
      "105    NaN\n",
      "106    NaN\n",
      "107    NaN\n",
      "108    3.2\n",
      "109    NaN\n",
      "Name: Rating, Length: 110, dtype: float64\n",
      "0      3.8\n",
      "1      3.0\n",
      "2      4.4\n",
      "3      4.9\n",
      "4      4.8\n",
      "      ... \n",
      "105    NaN\n",
      "106    NaN\n",
      "107    NaN\n",
      "108    3.2\n",
      "109    NaN\n",
      "Name: Rating, Length: 110, dtype: float64\n",
      "0      3.8\n",
      "1      3.0\n",
      "2      4.4\n",
      "3      4.9\n",
      "4      4.8\n",
      "      ... \n",
      "105    NaN\n",
      "106    NaN\n",
      "107    NaN\n",
      "108    3.2\n",
      "109    NaN\n",
      "Name: Rating, Length: 110, dtype: float64\n",
      "0      3.8\n",
      "1      3.0\n",
      "2      4.4\n",
      "3      4.9\n",
      "4      4.8\n",
      "      ... \n",
      "105    NaN\n",
      "106    NaN\n",
      "107    NaN\n",
      "108    3.2\n",
      "109    NaN\n",
      "Name: Rating, Length: 110, dtype: float64\n",
      "0      3.8\n",
      "1      3.0\n",
      "2      4.4\n",
      "3      4.9\n",
      "4      4.8\n",
      "      ... \n",
      "105    NaN\n",
      "106    NaN\n",
      "107    NaN\n",
      "108    3.2\n",
      "109    NaN\n",
      "Name: Rating, Length: 110, dtype: float64\n",
      "0      3.8\n",
      "1      3.0\n",
      "2      4.4\n",
      "3      4.9\n",
      "4      4.8\n",
      "      ... \n",
      "105    NaN\n",
      "106    NaN\n",
      "107    NaN\n",
      "108    3.2\n",
      "109    NaN\n",
      "Name: Rating, Length: 110, dtype: float64\n",
      "0      3.8\n",
      "1      3.0\n",
      "2      4.4\n",
      "3      4.9\n",
      "4      4.8\n",
      "      ... \n",
      "105    NaN\n",
      "106    NaN\n",
      "107    NaN\n",
      "108    3.2\n",
      "109    NaN\n",
      "Name: Rating, Length: 110, dtype: float64\n",
      "0      3.8\n",
      "1      3.0\n",
      "2      4.4\n",
      "3      4.9\n",
      "4      4.8\n",
      "      ... \n",
      "105    NaN\n",
      "106    NaN\n",
      "107    NaN\n",
      "108    3.2\n",
      "109    NaN\n",
      "Name: Rating, Length: 110, dtype: float64\n",
      "0      3.8\n",
      "1      3.0\n",
      "2      4.4\n",
      "3      4.9\n",
      "4      4.8\n",
      "      ... \n",
      "105    NaN\n",
      "106    NaN\n",
      "107    NaN\n",
      "108    3.2\n",
      "109    NaN\n",
      "Name: Rating, Length: 110, dtype: float64\n",
      "0      3.8\n",
      "1      3.0\n",
      "2      4.4\n",
      "3      4.9\n",
      "4      4.8\n",
      "      ... \n",
      "105    NaN\n",
      "106    NaN\n",
      "107    NaN\n",
      "108    3.2\n",
      "109    NaN\n",
      "Name: Rating, Length: 110, dtype: float64\n",
      "0      3.8\n",
      "1      3.0\n",
      "2      4.4\n",
      "3      4.9\n",
      "4      4.8\n",
      "      ... \n",
      "105    NaN\n",
      "106    NaN\n",
      "107    NaN\n",
      "108    3.2\n",
      "109    NaN\n",
      "Name: Rating, Length: 110, dtype: float64\n",
      "0      3.8\n",
      "1      3.0\n",
      "2      4.4\n",
      "3      4.9\n",
      "4      4.8\n",
      "      ... \n",
      "105    NaN\n",
      "106    NaN\n",
      "107    NaN\n",
      "108    3.2\n",
      "109    NaN\n",
      "Name: Rating, Length: 110, dtype: float64\n",
      "0      3.8\n",
      "1      3.0\n",
      "2      4.4\n",
      "3      4.9\n",
      "4      4.8\n",
      "      ... \n",
      "105    NaN\n",
      "106    NaN\n",
      "107    NaN\n",
      "108    3.2\n",
      "109    NaN\n",
      "Name: Rating, Length: 110, dtype: float64\n",
      "0      3.8\n",
      "1      3.0\n",
      "2      4.4\n",
      "3      4.9\n",
      "4      4.8\n",
      "      ... \n",
      "105    NaN\n",
      "106    NaN\n",
      "107    NaN\n",
      "108    3.2\n",
      "109    NaN\n",
      "Name: Rating, Length: 110, dtype: float64\n",
      "0      3.8\n",
      "1      3.0\n",
      "2      4.4\n",
      "3      4.9\n",
      "4      4.8\n",
      "      ... \n",
      "105    NaN\n",
      "106    NaN\n",
      "107    NaN\n",
      "108    3.2\n",
      "109    NaN\n",
      "Name: Rating, Length: 110, dtype: float64\n",
      "0      3.8\n",
      "1      3.0\n",
      "2      4.4\n",
      "3      4.9\n",
      "4      4.8\n",
      "      ... \n",
      "105    NaN\n",
      "106    NaN\n",
      "107    NaN\n",
      "108    3.2\n",
      "109    NaN\n",
      "Name: Rating, Length: 110, dtype: float64\n",
      "0      3.8\n",
      "1      3.0\n",
      "2      4.4\n",
      "3      4.9\n",
      "4      4.8\n",
      "      ... \n",
      "105    NaN\n",
      "106    NaN\n",
      "107    NaN\n",
      "108    3.2\n",
      "109    NaN\n",
      "Name: Rating, Length: 110, dtype: float64\n",
      "0      3.8\n",
      "1      3.0\n",
      "2      4.4\n",
      "3      4.9\n",
      "4      4.8\n",
      "      ... \n",
      "105    NaN\n",
      "106    NaN\n",
      "107    NaN\n",
      "108    3.2\n",
      "109    NaN\n",
      "Name: Rating, Length: 110, dtype: float64\n",
      "0      3.8\n",
      "1      3.0\n",
      "2      4.4\n",
      "3      4.9\n",
      "4      4.8\n",
      "      ... \n",
      "105    NaN\n",
      "106    NaN\n",
      "107    NaN\n",
      "108    3.2\n",
      "109    NaN\n",
      "Name: Rating, Length: 110, dtype: float64\n",
      "0      3.8\n",
      "1      3.0\n",
      "2      4.4\n",
      "3      4.9\n",
      "4      4.8\n",
      "      ... \n",
      "105    NaN\n",
      "106    NaN\n",
      "107    NaN\n",
      "108    3.2\n",
      "109    NaN\n",
      "Name: Rating, Length: 110, dtype: float64\n",
      "0      3.8\n",
      "1      3.0\n",
      "2      4.4\n",
      "3      4.9\n",
      "4      4.8\n",
      "      ... \n",
      "105    NaN\n",
      "106    NaN\n",
      "107    NaN\n",
      "108    3.2\n",
      "109    NaN\n",
      "Name: Rating, Length: 110, dtype: float64\n",
      "0      3.8\n",
      "1      3.0\n",
      "2      4.4\n",
      "3      4.9\n",
      "4      4.8\n",
      "      ... \n",
      "105    NaN\n",
      "106    NaN\n",
      "107    NaN\n",
      "108    3.2\n",
      "109    NaN\n",
      "Name: Rating, Length: 110, dtype: float64\n",
      "0      3.8\n",
      "1      3.0\n",
      "2      4.4\n",
      "3      4.9\n",
      "4      4.8\n",
      "      ... \n",
      "105    NaN\n",
      "106    NaN\n",
      "107    NaN\n",
      "108    3.2\n",
      "109    NaN\n",
      "Name: Rating, Length: 110, dtype: float64\n",
      "0      3.8\n",
      "1      3.0\n",
      "2      4.4\n",
      "3      4.9\n",
      "4      4.8\n",
      "      ... \n",
      "105    NaN\n",
      "106    NaN\n",
      "107    NaN\n",
      "108    3.2\n",
      "109    NaN\n",
      "Name: Rating, Length: 110, dtype: float64\n",
      "0      3.8\n",
      "1      3.0\n",
      "2      4.4\n",
      "3      4.9\n",
      "4      4.8\n",
      "      ... \n",
      "105    NaN\n",
      "106    NaN\n",
      "107    NaN\n",
      "108    3.2\n",
      "109    NaN\n",
      "Name: Rating, Length: 110, dtype: float64\n",
      "0      3.8\n",
      "1      3.0\n",
      "2      4.4\n",
      "3      4.9\n",
      "4      4.8\n",
      "      ... \n",
      "105    NaN\n",
      "106    NaN\n",
      "107    NaN\n",
      "108    3.2\n",
      "109    NaN\n",
      "Name: Rating, Length: 110, dtype: float64\n",
      "0      3.8\n",
      "1      3.0\n",
      "2      4.4\n",
      "3      4.9\n",
      "4      4.8\n",
      "      ... \n",
      "105    NaN\n",
      "106    NaN\n",
      "107    NaN\n",
      "108    3.2\n",
      "109    NaN\n",
      "Name: Rating, Length: 110, dtype: float64\n",
      "0      3.8\n",
      "1      3.0\n",
      "2      4.4\n",
      "3      4.9\n",
      "4      4.8\n",
      "      ... \n",
      "105    NaN\n",
      "106    NaN\n",
      "107    NaN\n",
      "108    3.2\n",
      "109    NaN\n",
      "Name: Rating, Length: 110, dtype: float64\n",
      "0      3.8\n",
      "1      3.0\n",
      "2      4.4\n",
      "3      4.9\n",
      "4      4.8\n",
      "      ... \n",
      "105    NaN\n",
      "106    NaN\n",
      "107    NaN\n",
      "108    3.2\n",
      "109    NaN\n",
      "Name: Rating, Length: 110, dtype: float64\n",
      "0      3.8\n",
      "1      3.0\n",
      "2      4.4\n",
      "3      4.9\n",
      "4      4.8\n",
      "      ... \n",
      "105    NaN\n",
      "106    NaN\n",
      "107    NaN\n",
      "108    3.2\n",
      "109    NaN\n",
      "Name: Rating, Length: 110, dtype: float64\n",
      "0      3.8\n",
      "1      3.0\n",
      "2      4.4\n",
      "3      4.9\n",
      "4      4.8\n",
      "      ... \n",
      "105    NaN\n",
      "106    NaN\n",
      "107    NaN\n",
      "108    3.2\n",
      "109    NaN\n",
      "Name: Rating, Length: 110, dtype: float64\n",
      "0      3.8\n",
      "1      3.0\n",
      "2      4.4\n",
      "3      4.9\n",
      "4      4.8\n",
      "      ... \n",
      "105    NaN\n",
      "106    NaN\n",
      "107    NaN\n",
      "108    3.2\n",
      "109    NaN\n",
      "Name: Rating, Length: 110, dtype: float64\n",
      "0      3.8\n",
      "1      3.0\n",
      "2      4.4\n",
      "3      4.9\n",
      "4      4.8\n",
      "      ... \n",
      "105    NaN\n",
      "106    NaN\n",
      "107    NaN\n",
      "108    3.2\n",
      "109    NaN\n",
      "Name: Rating, Length: 110, dtype: float64\n",
      "0      3.8\n",
      "1      3.0\n",
      "2      4.4\n",
      "3      4.9\n",
      "4      4.8\n",
      "      ... \n",
      "105    NaN\n",
      "106    NaN\n",
      "107    NaN\n",
      "108    3.2\n",
      "109    NaN\n",
      "Name: Rating, Length: 110, dtype: float64\n",
      "0      3.8\n",
      "1      3.0\n",
      "2      4.4\n",
      "3      4.9\n",
      "4      4.8\n",
      "      ... \n",
      "105    NaN\n",
      "106    NaN\n",
      "107    NaN\n",
      "108    3.2\n",
      "109    NaN\n",
      "Name: Rating, Length: 110, dtype: float64\n",
      "0      3.8\n",
      "1      3.0\n",
      "2      4.4\n",
      "3      4.9\n",
      "4      4.8\n",
      "      ... \n",
      "105    NaN\n",
      "106    NaN\n",
      "107    NaN\n",
      "108    3.2\n",
      "109    NaN\n",
      "Name: Rating, Length: 110, dtype: float64\n",
      "0      3.8\n",
      "1      3.0\n",
      "2      4.4\n",
      "3      4.9\n",
      "4      4.8\n",
      "      ... \n",
      "105    NaN\n",
      "106    NaN\n",
      "107    NaN\n",
      "108    3.2\n",
      "109    NaN\n",
      "Name: Rating, Length: 110, dtype: float64\n",
      "0      3.8\n",
      "1      3.0\n",
      "2      4.4\n",
      "3      4.9\n",
      "4      4.8\n",
      "      ... \n",
      "105    NaN\n",
      "106    NaN\n",
      "107    NaN\n",
      "108    3.2\n",
      "109    NaN\n",
      "Name: Rating, Length: 110, dtype: float64\n",
      "0      3.8\n",
      "1      3.0\n",
      "2      4.4\n",
      "3      4.9\n",
      "4      4.8\n",
      "      ... \n",
      "105    NaN\n",
      "106    NaN\n",
      "107    NaN\n",
      "108    3.2\n",
      "109    NaN\n",
      "Name: Rating, Length: 110, dtype: float64\n",
      "0      3.8\n",
      "1      3.0\n",
      "2      4.4\n",
      "3      4.9\n",
      "4      4.8\n",
      "      ... \n",
      "105    NaN\n",
      "106    NaN\n",
      "107    NaN\n",
      "108    3.2\n",
      "109    NaN\n",
      "Name: Rating, Length: 110, dtype: float64\n",
      "0      3.8\n",
      "1      3.0\n",
      "2      4.4\n",
      "3      4.9\n",
      "4      4.8\n",
      "      ... \n",
      "105    NaN\n",
      "106    NaN\n",
      "107    NaN\n",
      "108    3.2\n",
      "109    NaN\n",
      "Name: Rating, Length: 110, dtype: float64\n"
     ]
    }
   ],
   "source": [
    "for value in data['Rating']:\n",
    "    if(value.isnull()):\n",
    "        value.replace()\n",
    "    print(data['Rating'])"
   ]
  },
  {
   "cell_type": "code",
   "execution_count": 132,
   "metadata": {},
   "outputs": [],
   "source": [
    "data = data.values"
   ]
  },
  {
   "cell_type": "code",
   "execution_count": 134,
   "metadata": {},
   "outputs": [
    {
     "data": {
      "text/plain": [
       "array([['App1', 'Lifestyle', 3.8, ..., 'February 15, 2023', '1.0.0',\n",
       "        '7.1 and up'],\n",
       "       ['App2', 'Entertainment', 3.0, ..., 'January 1, 2023', '4.5.2',\n",
       "        '4.1 and up'],\n",
       "       ['App3', 'Lifestyle', 4.4, ..., 'May 5, 2023', '5.3.3',\n",
       "        '4.1 and up'],\n",
       "       ...,\n",
       "       ['App_NaN_8', nan, nan, ..., nan, '7.0.0', '5.0 and up'],\n",
       "       ['App_NaN_9', 'Finance', 3.2, ..., 'May 5, 2023', '5.3.3', nan],\n",
       "       ['App_NaN_10', 'Entertainment', nan, ..., nan, nan, '8.0 and up']],\n",
       "      shape=(110, 13), dtype=object)"
      ]
     },
     "execution_count": 134,
     "metadata": {},
     "output_type": "execute_result"
    }
   ],
   "source": [
    "data "
   ]
  },
  {
   "cell_type": "code",
   "execution_count": 138,
   "metadata": {},
   "outputs": [
    {
     "name": "stdout",
     "output_type": "stream",
     "text": [
      "['App2' 'Entertainment' 3.0 3804.0 '90M' '1000,000+' 'Paid' 4.99 'Teen'\n",
      " 'Health & Fitness' 'January 1, 2023' '4.5.2' '4.1 and up']\n",
      "['App42' 'Entertainment' 3.5 471.0 '67M' '50,000+' 'Paid' 0.0 'Teen'\n",
      " 'Action' 'April 20, 2023' '4.5.2' '6.0 and up']\n",
      "['App44' 'Entertainment' 3.3 1489.0 '94M' '5,000+' 'Paid' 1.99 'Teen'\n",
      " 'Education' 'March 10, 2023' '4.5.2' '4.1 and up']\n",
      "['App62' 'Entertainment' 4.6 1147.0 '31M' '5,000+' 'Paid' 3.49 'Teen'\n",
      " 'Social' 'January 1, 2023' '5.3.3' '4.1 and up']\n",
      "['App66' 'Entertainment' 3.9 1961.0 '75M' '100,000+' 'Paid' 1.99\n",
      " 'Everyone' 'Education' 'April 20, 2023' '3.0.1' '4.0 and up']\n",
      "['App82' 'Entertainment' 5.0 4089.0 '54M' '5,000+' 'Paid' 0.0 'Mature 17+'\n",
      " 'Social' 'January 1, 2023' '2.1.0' '5.0 and up']\n",
      "['App90' 'Entertainment' 4.7 3521.0 '40M' '10,000+' 'Paid' 2.99 'Teen'\n",
      " 'Education' 'April 20, 2023' '5.3.3' '5.0 and up']\n"
     ]
    }
   ],
   "source": [
    "for value in data:\n",
    "    if(value[1] == 'Entertainment' and value[6] == 'Paid'):\n",
    "        print(value)"
   ]
  },
  {
   "cell_type": "code",
   "execution_count": 143,
   "metadata": {},
   "outputs": [
    {
     "data": {
      "text/html": [
       "<div>\n",
       "<style scoped>\n",
       "    .dataframe tbody tr th:only-of-type {\n",
       "        vertical-align: middle;\n",
       "    }\n",
       "\n",
       "    .dataframe tbody tr th {\n",
       "        vertical-align: top;\n",
       "    }\n",
       "\n",
       "    .dataframe thead th {\n",
       "        text-align: right;\n",
       "    }\n",
       "</style>\n",
       "<table border=\"1\" class=\"dataframe\">\n",
       "  <thead>\n",
       "    <tr style=\"text-align: right;\">\n",
       "      <th></th>\n",
       "      <th>App</th>\n",
       "      <th>Category</th>\n",
       "      <th>Rating</th>\n",
       "      <th>Reviews</th>\n",
       "      <th>Size</th>\n",
       "      <th>Installs</th>\n",
       "      <th>Type</th>\n",
       "      <th>Proce</th>\n",
       "      <th>Content Rating</th>\n",
       "      <th>Genre</th>\n",
       "      <th>Last Updated</th>\n",
       "      <th>Current Version</th>\n",
       "      <th>Android Version</th>\n",
       "    </tr>\n",
       "  </thead>\n",
       "  <tbody>\n",
       "    <tr>\n",
       "      <th>1</th>\n",
       "      <td>App2</td>\n",
       "      <td>Entertainment</td>\n",
       "      <td>3.0</td>\n",
       "      <td>3804.0</td>\n",
       "      <td>90M</td>\n",
       "      <td>1000,000+</td>\n",
       "      <td>Paid</td>\n",
       "      <td>4.99</td>\n",
       "      <td>Teen</td>\n",
       "      <td>Health &amp; Fitness</td>\n",
       "      <td>January 1, 2023</td>\n",
       "      <td>4.5.2</td>\n",
       "      <td>4.1 and up</td>\n",
       "    </tr>\n",
       "    <tr>\n",
       "      <th>41</th>\n",
       "      <td>App42</td>\n",
       "      <td>Entertainment</td>\n",
       "      <td>3.5</td>\n",
       "      <td>471.0</td>\n",
       "      <td>67M</td>\n",
       "      <td>50,000+</td>\n",
       "      <td>Paid</td>\n",
       "      <td>0.00</td>\n",
       "      <td>Teen</td>\n",
       "      <td>Action</td>\n",
       "      <td>April 20, 2023</td>\n",
       "      <td>4.5.2</td>\n",
       "      <td>6.0 and up</td>\n",
       "    </tr>\n",
       "    <tr>\n",
       "      <th>43</th>\n",
       "      <td>App44</td>\n",
       "      <td>Entertainment</td>\n",
       "      <td>3.3</td>\n",
       "      <td>1489.0</td>\n",
       "      <td>94M</td>\n",
       "      <td>5,000+</td>\n",
       "      <td>Paid</td>\n",
       "      <td>1.99</td>\n",
       "      <td>Teen</td>\n",
       "      <td>Education</td>\n",
       "      <td>March 10, 2023</td>\n",
       "      <td>4.5.2</td>\n",
       "      <td>4.1 and up</td>\n",
       "    </tr>\n",
       "    <tr>\n",
       "      <th>61</th>\n",
       "      <td>App62</td>\n",
       "      <td>Entertainment</td>\n",
       "      <td>4.6</td>\n",
       "      <td>1147.0</td>\n",
       "      <td>31M</td>\n",
       "      <td>5,000+</td>\n",
       "      <td>Paid</td>\n",
       "      <td>3.49</td>\n",
       "      <td>Teen</td>\n",
       "      <td>Social</td>\n",
       "      <td>January 1, 2023</td>\n",
       "      <td>5.3.3</td>\n",
       "      <td>4.1 and up</td>\n",
       "    </tr>\n",
       "    <tr>\n",
       "      <th>65</th>\n",
       "      <td>App66</td>\n",
       "      <td>Entertainment</td>\n",
       "      <td>3.9</td>\n",
       "      <td>1961.0</td>\n",
       "      <td>75M</td>\n",
       "      <td>100,000+</td>\n",
       "      <td>Paid</td>\n",
       "      <td>1.99</td>\n",
       "      <td>Everyone</td>\n",
       "      <td>Education</td>\n",
       "      <td>April 20, 2023</td>\n",
       "      <td>3.0.1</td>\n",
       "      <td>4.0 and up</td>\n",
       "    </tr>\n",
       "    <tr>\n",
       "      <th>81</th>\n",
       "      <td>App82</td>\n",
       "      <td>Entertainment</td>\n",
       "      <td>5.0</td>\n",
       "      <td>4089.0</td>\n",
       "      <td>54M</td>\n",
       "      <td>5,000+</td>\n",
       "      <td>Paid</td>\n",
       "      <td>0.00</td>\n",
       "      <td>Mature 17+</td>\n",
       "      <td>Social</td>\n",
       "      <td>January 1, 2023</td>\n",
       "      <td>2.1.0</td>\n",
       "      <td>5.0 and up</td>\n",
       "    </tr>\n",
       "    <tr>\n",
       "      <th>89</th>\n",
       "      <td>App90</td>\n",
       "      <td>Entertainment</td>\n",
       "      <td>4.7</td>\n",
       "      <td>3521.0</td>\n",
       "      <td>40M</td>\n",
       "      <td>10,000+</td>\n",
       "      <td>Paid</td>\n",
       "      <td>2.99</td>\n",
       "      <td>Teen</td>\n",
       "      <td>Education</td>\n",
       "      <td>April 20, 2023</td>\n",
       "      <td>5.3.3</td>\n",
       "      <td>5.0 and up</td>\n",
       "    </tr>\n",
       "  </tbody>\n",
       "</table>\n",
       "</div>"
      ],
      "text/plain": [
       "      App       Category  Rating  Reviews Size   Installs  Type  Proce  \\\n",
       "1    App2  Entertainment     3.0   3804.0  90M  1000,000+  Paid   4.99   \n",
       "41  App42  Entertainment     3.5    471.0  67M    50,000+  Paid   0.00   \n",
       "43  App44  Entertainment     3.3   1489.0  94M     5,000+  Paid   1.99   \n",
       "61  App62  Entertainment     4.6   1147.0  31M     5,000+  Paid   3.49   \n",
       "65  App66  Entertainment     3.9   1961.0  75M   100,000+  Paid   1.99   \n",
       "81  App82  Entertainment     5.0   4089.0  54M     5,000+  Paid   0.00   \n",
       "89  App90  Entertainment     4.7   3521.0  40M    10,000+  Paid   2.99   \n",
       "\n",
       "   Content Rating             Genre     Last Updated Current Version  \\\n",
       "1            Teen  Health & Fitness  January 1, 2023           4.5.2   \n",
       "41           Teen            Action   April 20, 2023           4.5.2   \n",
       "43           Teen         Education   March 10, 2023           4.5.2   \n",
       "61           Teen            Social  January 1, 2023           5.3.3   \n",
       "65       Everyone         Education   April 20, 2023           3.0.1   \n",
       "81     Mature 17+            Social  January 1, 2023           2.1.0   \n",
       "89           Teen         Education   April 20, 2023           5.3.3   \n",
       "\n",
       "   Android Version  \n",
       "1       4.1 and up  \n",
       "41      6.0 and up  \n",
       "43      4.1 and up  \n",
       "61      4.1 and up  \n",
       "65      4.0 and up  \n",
       "81      5.0 and up  \n",
       "89      5.0 and up  "
      ]
     },
     "execution_count": 143,
     "metadata": {},
     "output_type": "execute_result"
    }
   ],
   "source": [
    "df1 = data[data['Category'] == 'Entertainment']\n",
    "df1[df1['Type'] == 'Paid']"
   ]
  },
  {
   "cell_type": "code",
   "execution_count": 149,
   "metadata": {},
   "outputs": [
    {
     "name": "stdout",
     "output_type": "stream",
     "text": [
      "1      App2\n",
      "41    App42\n",
      "43    App44\n",
      "61    App62\n",
      "65    App66\n",
      "81    App82\n",
      "89    App90\n",
      "Name: App, dtype: object\n"
     ]
    }
   ],
   "source": [
    "print(data[(data['Category'] == 'Entertainment') & (data['Type'] == 'Paid')]['App'])"
   ]
  },
  {
   "cell_type": "code",
   "execution_count": 162,
   "metadata": {},
   "outputs": [],
   "source": [
    "df1 = data.sort_values(by = 'Size', ascending= True)[['App','Size']]"
   ]
  },
  {
   "cell_type": "code",
   "execution_count": 163,
   "metadata": {},
   "outputs": [
    {
     "data": {
      "text/html": [
       "<div>\n",
       "<style scoped>\n",
       "    .dataframe tbody tr th:only-of-type {\n",
       "        vertical-align: middle;\n",
       "    }\n",
       "\n",
       "    .dataframe tbody tr th {\n",
       "        vertical-align: top;\n",
       "    }\n",
       "\n",
       "    .dataframe thead th {\n",
       "        text-align: right;\n",
       "    }\n",
       "</style>\n",
       "<table border=\"1\" class=\"dataframe\">\n",
       "  <thead>\n",
       "    <tr style=\"text-align: right;\">\n",
       "      <th></th>\n",
       "      <th>App</th>\n",
       "      <th>Size</th>\n",
       "    </tr>\n",
       "  </thead>\n",
       "  <tbody>\n",
       "    <tr>\n",
       "      <th>26</th>\n",
       "      <td>App27</td>\n",
       "      <td>10M</td>\n",
       "    </tr>\n",
       "    <tr>\n",
       "      <th>51</th>\n",
       "      <td>App52</td>\n",
       "      <td>11M</td>\n",
       "    </tr>\n",
       "    <tr>\n",
       "      <th>90</th>\n",
       "      <td>App91</td>\n",
       "      <td>12M</td>\n",
       "    </tr>\n",
       "    <tr>\n",
       "      <th>25</th>\n",
       "      <td>App26</td>\n",
       "      <td>12M</td>\n",
       "    </tr>\n",
       "    <tr>\n",
       "      <th>72</th>\n",
       "      <td>App73</td>\n",
       "      <td>12M</td>\n",
       "    </tr>\n",
       "    <tr>\n",
       "      <th>...</th>\n",
       "      <td>...</td>\n",
       "      <td>...</td>\n",
       "    </tr>\n",
       "    <tr>\n",
       "      <th>102</th>\n",
       "      <td>App_NaN_3</td>\n",
       "      <td>NaN</td>\n",
       "    </tr>\n",
       "    <tr>\n",
       "      <th>103</th>\n",
       "      <td>App_NaN_4</td>\n",
       "      <td>NaN</td>\n",
       "    </tr>\n",
       "    <tr>\n",
       "      <th>104</th>\n",
       "      <td>App_NaN_5</td>\n",
       "      <td>NaN</td>\n",
       "    </tr>\n",
       "    <tr>\n",
       "      <th>107</th>\n",
       "      <td>App_NaN_8</td>\n",
       "      <td>NaN</td>\n",
       "    </tr>\n",
       "    <tr>\n",
       "      <th>109</th>\n",
       "      <td>App_NaN_10</td>\n",
       "      <td>NaN</td>\n",
       "    </tr>\n",
       "  </tbody>\n",
       "</table>\n",
       "<p>110 rows × 2 columns</p>\n",
       "</div>"
      ],
      "text/plain": [
       "            App Size\n",
       "26        App27  10M\n",
       "51        App52  11M\n",
       "90        App91  12M\n",
       "25        App26  12M\n",
       "72        App73  12M\n",
       "..          ...  ...\n",
       "102   App_NaN_3  NaN\n",
       "103   App_NaN_4  NaN\n",
       "104   App_NaN_5  NaN\n",
       "107   App_NaN_8  NaN\n",
       "109  App_NaN_10  NaN\n",
       "\n",
       "[110 rows x 2 columns]"
      ]
     },
     "execution_count": 163,
     "metadata": {},
     "output_type": "execute_result"
    }
   ],
   "source": []
  },
  {
   "cell_type": "code",
   "execution_count": 165,
   "metadata": {},
   "outputs": [
    {
     "data": {
      "text/plain": [
       "Genre\n",
       "Education           20\n",
       "Social              18\n",
       "Productivity        15\n",
       "Entertainment       11\n",
       "Health & Fitness    10\n",
       "Tools               10\n",
       "Finance              9\n",
       "Action               8\n",
       "Lifestyle            8\n",
       "Name: count, dtype: int64"
      ]
     },
     "execution_count": 165,
     "metadata": {},
     "output_type": "execute_result"
    }
   ],
   "source": [
    "data['Genre'].value_counts()"
   ]
  },
  {
   "cell_type": "code",
   "execution_count": 166,
   "metadata": {},
   "outputs": [
    {
     "data": {
      "text/plain": [
       "Genre\n",
       "Action               8\n",
       "Education           20\n",
       "Entertainment       11\n",
       "Finance              9\n",
       "Health & Fitness    10\n",
       "Lifestyle            8\n",
       "Productivity        15\n",
       "Social              18\n",
       "Tools               10\n",
       "dtype: int64"
      ]
     },
     "execution_count": 166,
     "metadata": {},
     "output_type": "execute_result"
    }
   ],
   "source": [
    "data.groupby('Genre').size()"
   ]
  },
  {
   "cell_type": "code",
   "execution_count": 172,
   "metadata": {},
   "outputs": [
    {
     "data": {
      "text/plain": [
       "Category\n",
       "Education        31418.0\n",
       "Entertainment    31435.0\n",
       "Finance          26289.0\n",
       "Game             31859.0\n",
       "Health           34604.0\n",
       "Lifestyle        32320.0\n",
       "Productivity     14742.0\n",
       "Social           30688.0\n",
       "Tools            11301.0\n",
       "Name: Reviews, dtype: float64"
      ]
     },
     "execution_count": 172,
     "metadata": {},
     "output_type": "execute_result"
    }
   ],
   "source": [
    "data.groupby('Category')['Reviews'].sum()"
   ]
  },
  {
   "cell_type": "code",
   "execution_count": 174,
   "metadata": {},
   "outputs": [
    {
     "data": {
      "text/plain": [
       "Category       Type\n",
       "Education      Free     6\n",
       "               Paid     6\n",
       "Entertainment  Free     7\n",
       "               Paid     7\n",
       "Finance        Free     5\n",
       "               Paid     6\n",
       "Game           Free     8\n",
       "               Paid     5\n",
       "Health         Free     6\n",
       "               Paid    10\n",
       "Lifestyle      Free     6\n",
       "               Paid     9\n",
       "Productivity   Free     3\n",
       "               Paid     4\n",
       "Social         Free     5\n",
       "               Paid     7\n",
       "Tools          Free     3\n",
       "               Paid     1\n",
       "dtype: int64"
      ]
     },
     "execution_count": 174,
     "metadata": {},
     "output_type": "execute_result"
    }
   ],
   "source": [
    "data.groupby(['Category','Type']).size()"
   ]
  },
  {
   "cell_type": "code",
   "execution_count": null,
   "metadata": {},
   "outputs": [],
   "source": []
  }
 ],
 "metadata": {
  "kernelspec": {
   "display_name": "Python 3",
   "language": "python",
   "name": "python3"
  },
  "language_info": {
   "codemirror_mode": {
    "name": "ipython",
    "version": 3
   },
   "file_extension": ".py",
   "mimetype": "text/x-python",
   "name": "python",
   "nbconvert_exporter": "python",
   "pygments_lexer": "ipython3",
   "version": "3.13.1"
  }
 },
 "nbformat": 4,
 "nbformat_minor": 2
}
